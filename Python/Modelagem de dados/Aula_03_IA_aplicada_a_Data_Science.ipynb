{
  "cells": [
    {
      "cell_type": "markdown",
      "metadata": {
        "id": "7D3n0DACbyjf"
      },
      "source": [
        "# <strong><font color=\"7b71ff\">IA aplicada a Data Science: utilizando IA na construção de visualização de dados</font></strong>\n",
        "\n",
        "\n",
        "---"
      ]
    },
    {
      "cell_type": "markdown",
      "metadata": {
        "id": "VaTi3VASWW7t"
      },
      "source": [
        "<img src=\"https://raw.githubusercontent.com/alura-cursos/ia-datascience-dataviz/main/imagens/logos/logo_branca_fundo_azul.png\" alt=\"inserir alt\">"
      ]
    },
    {
      "cell_type": "markdown",
      "metadata": {
        "id": "Au2nZsz9ezur"
      },
      "source": [
        "# **Aula 1 - Conhecendo os dados**\n"
      ]
    },
    {
      "cell_type": "markdown",
      "metadata": {
        "id": "zK8w6DEoZAHd"
      },
      "source": [
        "A **Zoop** é uma grande varejista que atende a todas as regiões do Brasil por meio do seu **e-commerce**. Ela é conhecida pela ampla variedade em seus produtos buscando atender a todo tipo de público. Ela possui uma série de centros de distribuição (CDs) para entrega de seus produtos, com grande parte situada no estado de São Paulo.\n",
        "\n",
        "Para gerenciar o seu alcance, bem como o faturamento de seu setor em lojas online, ela consolida os dados em diferentes períodos de tempo e avalia esses dados para gerar insights e tomar algumas decisões estratégicas em seu negócio. Neste projeto, vamos ter acesso aos dados de parte da sua clientela do e-commerce dentro do ano de 2023.  \n",
        "\n",
        "Você, como **analista de dados** da empresa, precisará gerar visuais que auxiliem na construção de relatórios de acordo com algumas premissas passadas pelas partes interessadas realizando uma rápida análise do público que possuimos na loja virtual e do faturamento da empresa.\n",
        "\n",
        "**Problema de negócio:**\n",
        "\n",
        "O time de dados da **Zoop** precisa extrair os dados e gerar informações por meio de visuais que possam ser apresentados a diretoria da empresa apontando os dados de faturamento, perfil do cliente e outros indicadores que possam auxiliar na tomada de decisão em sua loja online.\n",
        "\n",
        "**Base de dados**\n",
        "\n",
        "Vamos importar duas bases de dados:\n",
        "\n",
        "> Dados de clientes do e-commerce da Zoop, separados pelo código identificador da compra.\n",
        "\n",
        "> Dados de vendas do e-commerce da Zoop em 2023, separados pelo código identificador da compra.\n",
        "\n",
        "Esses dados serão lidos a partir do repositório compartilhado pelo GitHub.\n",
        "\n",
        "**Desafio**\n",
        "\n",
        "Você, como analista de dados do time de dados da Zoop, tem o desafio de extrair os dados de ambas as bases e construir visuais que possam agregar valor a apresentação dos resultados da Zoop em 2023. Para isso, serão repassados ao todo **7 questionamentos** que foram separados para que você possa contribuir na construção do storytelling das vendas da empresa.\n",
        "\n",
        "Para agilizar o processo da análise exploratória dos dados (AED) e a criação dos visuais, utilizaremos a IA do **ChatGPT** como nossa assistente, tudo isso levando em conta o prazo curto para as análises e a qualidade da entrega.\n"
      ]
    },
    {
      "cell_type": "markdown",
      "metadata": {
        "id": "fTAQwVAbUQKM"
      },
      "source": [
        "## **1.2 - Obtendo os dados**\n",
        "\n",
        "---\n",
        "\n"
      ]
    },
    {
      "cell_type": "markdown",
      "metadata": {
        "id": "JqUdNfFRdUw5"
      },
      "source": [
        "Vamos inicialmente passar o link do repositório com as duas bases que utilizaremos no projeto:"
      ]
    },
    {
      "cell_type": "code",
      "execution_count": 1,
      "metadata": {
        "id": "CiQIdcGYepnX"
      },
      "outputs": [],
      "source": [
        "url_clientes = \"https://raw.githubusercontent.com/alura-cursos/ia-datascience-dataviz/main/dados/zoop_clientes.csv\"\n",
        "url_vendas = \"https://raw.githubusercontent.com/alura-cursos/ia-datascience-dataviz/main/dados/zoop_vendas.csv\""
      ]
    },
    {
      "cell_type": "markdown",
      "metadata": {
        "id": "9Cjboi9RfMzi"
      },
      "source": [
        "Após esta etapa, vamos criar 2 dataframes com os dados dos clientes e das vendas da Zoop separadamente e dar uma pequena checada nas tabelas extraídas."
      ]
    },
    {
      "cell_type": "code",
      "execution_count": 2,
      "metadata": {
        "id": "on6FbO4VfowL"
      },
      "outputs": [],
      "source": [
        "import pandas as pd"
      ]
    },
    {
      "cell_type": "code",
      "execution_count": 3,
      "metadata": {
        "id": "Tr9rBBqiforN"
      },
      "outputs": [],
      "source": [
        "clientes = pd.read_csv(url_clientes)"
      ]
    },
    {
      "cell_type": "code",
      "execution_count": 4,
      "metadata": {
        "colab": {
          "base_uri": "https://localhost:8080/",
          "height": 206
        },
        "id": "hgToPfAZfojV",
        "outputId": "231af25b-b96f-4906-a014-2ecaebe6f236"
      },
      "outputs": [
        {
          "data": {
            "text/html": [
              "<div>\n",
              "<style scoped>\n",
              "    .dataframe tbody tr th:only-of-type {\n",
              "        vertical-align: middle;\n",
              "    }\n",
              "\n",
              "    .dataframe tbody tr th {\n",
              "        vertical-align: top;\n",
              "    }\n",
              "\n",
              "    .dataframe thead th {\n",
              "        text-align: right;\n",
              "    }\n",
              "</style>\n",
              "<table border=\"1\" class=\"dataframe\">\n",
              "  <thead>\n",
              "    <tr style=\"text-align: right;\">\n",
              "      <th></th>\n",
              "      <th>ID_compra</th>\n",
              "      <th>ID_cliente</th>\n",
              "      <th>cidade</th>\n",
              "      <th>uf</th>\n",
              "      <th>regiao</th>\n",
              "      <th>idade</th>\n",
              "      <th>sexo_biologico</th>\n",
              "      <th>cashback</th>\n",
              "      <th>avaliacao_compra</th>\n",
              "    </tr>\n",
              "  </thead>\n",
              "  <tbody>\n",
              "    <tr>\n",
              "      <th>0</th>\n",
              "      <td>904</td>\n",
              "      <td>8972</td>\n",
              "      <td>Natal</td>\n",
              "      <td>Rio Grande do Norte</td>\n",
              "      <td>Nordeste</td>\n",
              "      <td>49</td>\n",
              "      <td>Masculino</td>\n",
              "      <td>Não</td>\n",
              "      <td>9</td>\n",
              "    </tr>\n",
              "    <tr>\n",
              "      <th>1</th>\n",
              "      <td>4613</td>\n",
              "      <td>5120</td>\n",
              "      <td>São Paulo</td>\n",
              "      <td>São Paulo</td>\n",
              "      <td>Sudeste</td>\n",
              "      <td>49</td>\n",
              "      <td>Feminino</td>\n",
              "      <td>Não</td>\n",
              "      <td>9</td>\n",
              "    </tr>\n",
              "    <tr>\n",
              "      <th>2</th>\n",
              "      <td>5579</td>\n",
              "      <td>1847</td>\n",
              "      <td>São Paulo</td>\n",
              "      <td>São Paulo</td>\n",
              "      <td>Sudeste</td>\n",
              "      <td>24</td>\n",
              "      <td>Feminino</td>\n",
              "      <td>Não</td>\n",
              "      <td>8</td>\n",
              "    </tr>\n",
              "    <tr>\n",
              "      <th>3</th>\n",
              "      <td>2405</td>\n",
              "      <td>2846</td>\n",
              "      <td>São Paulo</td>\n",
              "      <td>São Paulo</td>\n",
              "      <td>Sudeste</td>\n",
              "      <td>38</td>\n",
              "      <td>Feminino</td>\n",
              "      <td>Sim</td>\n",
              "      <td>7</td>\n",
              "    </tr>\n",
              "    <tr>\n",
              "      <th>4</th>\n",
              "      <td>2485</td>\n",
              "      <td>2715</td>\n",
              "      <td>Salvador</td>\n",
              "      <td>Bahia</td>\n",
              "      <td>Nordeste</td>\n",
              "      <td>30</td>\n",
              "      <td>Feminino</td>\n",
              "      <td>Não</td>\n",
              "      <td>10</td>\n",
              "    </tr>\n",
              "  </tbody>\n",
              "</table>\n",
              "</div>"
            ],
            "text/plain": [
              "   ID_compra  ID_cliente     cidade                   uf    regiao  idade  \\\n",
              "0        904        8972      Natal  Rio Grande do Norte  Nordeste     49   \n",
              "1       4613        5120  São Paulo            São Paulo   Sudeste     49   \n",
              "2       5579        1847  São Paulo            São Paulo   Sudeste     24   \n",
              "3       2405        2846  São Paulo            São Paulo   Sudeste     38   \n",
              "4       2485        2715   Salvador                Bahia  Nordeste     30   \n",
              "\n",
              "  sexo_biologico cashback  avaliacao_compra  \n",
              "0      Masculino      Não                 9  \n",
              "1       Feminino      Não                 9  \n",
              "2       Feminino      Não                 8  \n",
              "3       Feminino      Sim                 7  \n",
              "4       Feminino      Não                10  "
            ]
          },
          "execution_count": 4,
          "metadata": {},
          "output_type": "execute_result"
        }
      ],
      "source": [
        "clientes.head()"
      ]
    },
    {
      "cell_type": "code",
      "execution_count": 5,
      "metadata": {
        "id": "IkZPHz1XfoaI"
      },
      "outputs": [],
      "source": [
        "vendas = pd.read_csv(url_vendas)"
      ]
    },
    {
      "cell_type": "code",
      "execution_count": 6,
      "metadata": {
        "colab": {
          "base_uri": "https://localhost:8080/",
          "height": 206
        },
        "id": "t5K_jL53f_6H",
        "outputId": "3f9bb226-aae5-4801-bce8-2f86ca268cda"
      },
      "outputs": [
        {
          "data": {
            "text/html": [
              "<div>\n",
              "<style scoped>\n",
              "    .dataframe tbody tr th:only-of-type {\n",
              "        vertical-align: middle;\n",
              "    }\n",
              "\n",
              "    .dataframe tbody tr th {\n",
              "        vertical-align: top;\n",
              "    }\n",
              "\n",
              "    .dataframe thead th {\n",
              "        text-align: right;\n",
              "    }\n",
              "</style>\n",
              "<table border=\"1\" class=\"dataframe\">\n",
              "  <thead>\n",
              "    <tr style=\"text-align: right;\">\n",
              "      <th></th>\n",
              "      <th>ID_compra</th>\n",
              "      <th>data</th>\n",
              "      <th>horario</th>\n",
              "      <th>categoria</th>\n",
              "      <th>preco_unitario</th>\n",
              "      <th>quantidade</th>\n",
              "      <th>frete</th>\n",
              "      <th>metodo_pagamento</th>\n",
              "    </tr>\n",
              "  </thead>\n",
              "  <tbody>\n",
              "    <tr>\n",
              "      <th>6164</th>\n",
              "      <td>6141</td>\n",
              "      <td>2023-12-31</td>\n",
              "      <td>17:49</td>\n",
              "      <td>Eletrodomésticos</td>\n",
              "      <td>1509.9</td>\n",
              "      <td>5</td>\n",
              "      <td>377.48</td>\n",
              "      <td>Cartão de Crédito</td>\n",
              "    </tr>\n",
              "    <tr>\n",
              "      <th>6165</th>\n",
              "      <td>6148</td>\n",
              "      <td>2023-12-31</td>\n",
              "      <td>23:02</td>\n",
              "      <td>Papelaria e escritório</td>\n",
              "      <td>14.0</td>\n",
              "      <td>2</td>\n",
              "      <td>3.36</td>\n",
              "      <td>PIX</td>\n",
              "    </tr>\n",
              "    <tr>\n",
              "      <th>6166</th>\n",
              "      <td>6123</td>\n",
              "      <td>2023-12-31</td>\n",
              "      <td>21:25</td>\n",
              "      <td>Alimentos e bebidas</td>\n",
              "      <td>77.9</td>\n",
              "      <td>1</td>\n",
              "      <td>7.79</td>\n",
              "      <td>Cartão de Crédito</td>\n",
              "    </tr>\n",
              "    <tr>\n",
              "      <th>6167</th>\n",
              "      <td>6147</td>\n",
              "      <td>2023-12-31</td>\n",
              "      <td>21:38</td>\n",
              "      <td>Livros</td>\n",
              "      <td>142.9</td>\n",
              "      <td>4</td>\n",
              "      <td>17.15</td>\n",
              "      <td>Cartão de Crédito</td>\n",
              "    </tr>\n",
              "    <tr>\n",
              "      <th>6168</th>\n",
              "      <td>6122</td>\n",
              "      <td>2023-12-31</td>\n",
              "      <td>22:11</td>\n",
              "      <td>Beleza e cuidados pessoais</td>\n",
              "      <td>89.9</td>\n",
              "      <td>5</td>\n",
              "      <td>13.48</td>\n",
              "      <td>Cartão de Crédito</td>\n",
              "    </tr>\n",
              "  </tbody>\n",
              "</table>\n",
              "</div>"
            ],
            "text/plain": [
              "      ID_compra        data horario                   categoria  \\\n",
              "6164       6141  2023-12-31   17:49            Eletrodomésticos   \n",
              "6165       6148  2023-12-31   23:02      Papelaria e escritório   \n",
              "6166       6123  2023-12-31   21:25         Alimentos e bebidas   \n",
              "6167       6147  2023-12-31   21:38                      Livros   \n",
              "6168       6122  2023-12-31   22:11  Beleza e cuidados pessoais   \n",
              "\n",
              "      preco_unitario  quantidade   frete   metodo_pagamento  \n",
              "6164          1509.9           5  377.48  Cartão de Crédito  \n",
              "6165            14.0           2    3.36                PIX  \n",
              "6166            77.9           1    7.79  Cartão de Crédito  \n",
              "6167           142.9           4   17.15  Cartão de Crédito  \n",
              "6168            89.9           5   13.48  Cartão de Crédito  "
            ]
          },
          "execution_count": 6,
          "metadata": {},
          "output_type": "execute_result"
        }
      ],
      "source": [
        "vendas.tail()"
      ]
    },
    {
      "cell_type": "markdown",
      "metadata": {
        "id": "IjUQVQugeSmy"
      },
      "source": [
        "## **1.3 - Entendendo os dados**\n",
        "\n",
        "---\n",
        "\n"
      ]
    },
    {
      "cell_type": "markdown",
      "metadata": {
        "id": "HvpyBDtfem2m"
      },
      "source": [
        "Agora, vamos explorar os dados compreendendo o que significam e como podemos relacioná-los na construção dos visuais."
      ]
    },
    {
      "cell_type": "markdown",
      "metadata": {
        "id": "uC8UTYArtB70"
      },
      "source": [
        "### **Base de clientes**"
      ]
    },
    {
      "cell_type": "markdown",
      "metadata": {
        "id": "vb75qly2gIor"
      },
      "source": [
        "> #### <strong><font color=\"7b71ff\" size =6>Prompt:</font></strong>\n",
        "\n",
        "Vamos atuar como analista de dados de um e-commerce. Recebemos duas bases de dados com os dados dos clientes e das vendas em 2023, respectivamente.\n",
        "\n",
        "Neste primeiro momento, vamos explorar a base clientes no formato de um DataFrame, chamado \"clientes\". Ela contém dados dos clientes que realizaram comprar na loja virtual, sendo eles: ID da compra, ID do cliente, a cidade, estado e região da compra, idade, sexo biológico, se participam do programa de cashback e avaliação da compra.\n",
        "\n",
        "Queremos fazer uma breve exploração dos dados para compreender um pouco sobre eles. Lembrando que os dados desta base já estão limpos e tratados. Construa um código para executar esta etapa usando o Python.\n",
        "\n",
        "Não é necessário utilizar \"print()\" para mostrar o resultado das consultas."
      ]
    },
    {
      "cell_type": "code",
      "execution_count": 7,
      "metadata": {
        "colab": {
          "base_uri": "https://localhost:8080/",
          "height": 206
        },
        "id": "SjWiUHZRsMVE",
        "outputId": "720fff69-ba1e-44f0-8ec4-f5e254a127fb"
      },
      "outputs": [
        {
          "data": {
            "text/html": [
              "<div>\n",
              "<style scoped>\n",
              "    .dataframe tbody tr th:only-of-type {\n",
              "        vertical-align: middle;\n",
              "    }\n",
              "\n",
              "    .dataframe tbody tr th {\n",
              "        vertical-align: top;\n",
              "    }\n",
              "\n",
              "    .dataframe thead th {\n",
              "        text-align: right;\n",
              "    }\n",
              "</style>\n",
              "<table border=\"1\" class=\"dataframe\">\n",
              "  <thead>\n",
              "    <tr style=\"text-align: right;\">\n",
              "      <th></th>\n",
              "      <th>ID_compra</th>\n",
              "      <th>ID_cliente</th>\n",
              "      <th>cidade</th>\n",
              "      <th>uf</th>\n",
              "      <th>regiao</th>\n",
              "      <th>idade</th>\n",
              "      <th>sexo_biologico</th>\n",
              "      <th>cashback</th>\n",
              "      <th>avaliacao_compra</th>\n",
              "    </tr>\n",
              "  </thead>\n",
              "  <tbody>\n",
              "    <tr>\n",
              "      <th>0</th>\n",
              "      <td>904</td>\n",
              "      <td>8972</td>\n",
              "      <td>Natal</td>\n",
              "      <td>Rio Grande do Norte</td>\n",
              "      <td>Nordeste</td>\n",
              "      <td>49</td>\n",
              "      <td>Masculino</td>\n",
              "      <td>Não</td>\n",
              "      <td>9</td>\n",
              "    </tr>\n",
              "    <tr>\n",
              "      <th>1</th>\n",
              "      <td>4613</td>\n",
              "      <td>5120</td>\n",
              "      <td>São Paulo</td>\n",
              "      <td>São Paulo</td>\n",
              "      <td>Sudeste</td>\n",
              "      <td>49</td>\n",
              "      <td>Feminino</td>\n",
              "      <td>Não</td>\n",
              "      <td>9</td>\n",
              "    </tr>\n",
              "    <tr>\n",
              "      <th>2</th>\n",
              "      <td>5579</td>\n",
              "      <td>1847</td>\n",
              "      <td>São Paulo</td>\n",
              "      <td>São Paulo</td>\n",
              "      <td>Sudeste</td>\n",
              "      <td>24</td>\n",
              "      <td>Feminino</td>\n",
              "      <td>Não</td>\n",
              "      <td>8</td>\n",
              "    </tr>\n",
              "    <tr>\n",
              "      <th>3</th>\n",
              "      <td>2405</td>\n",
              "      <td>2846</td>\n",
              "      <td>São Paulo</td>\n",
              "      <td>São Paulo</td>\n",
              "      <td>Sudeste</td>\n",
              "      <td>38</td>\n",
              "      <td>Feminino</td>\n",
              "      <td>Sim</td>\n",
              "      <td>7</td>\n",
              "    </tr>\n",
              "    <tr>\n",
              "      <th>4</th>\n",
              "      <td>2485</td>\n",
              "      <td>2715</td>\n",
              "      <td>Salvador</td>\n",
              "      <td>Bahia</td>\n",
              "      <td>Nordeste</td>\n",
              "      <td>30</td>\n",
              "      <td>Feminino</td>\n",
              "      <td>Não</td>\n",
              "      <td>10</td>\n",
              "    </tr>\n",
              "  </tbody>\n",
              "</table>\n",
              "</div>"
            ],
            "text/plain": [
              "   ID_compra  ID_cliente     cidade                   uf    regiao  idade  \\\n",
              "0        904        8972      Natal  Rio Grande do Norte  Nordeste     49   \n",
              "1       4613        5120  São Paulo            São Paulo   Sudeste     49   \n",
              "2       5579        1847  São Paulo            São Paulo   Sudeste     24   \n",
              "3       2405        2846  São Paulo            São Paulo   Sudeste     38   \n",
              "4       2485        2715   Salvador                Bahia  Nordeste     30   \n",
              "\n",
              "  sexo_biologico cashback  avaliacao_compra  \n",
              "0      Masculino      Não                 9  \n",
              "1       Feminino      Não                 9  \n",
              "2       Feminino      Não                 8  \n",
              "3       Feminino      Sim                 7  \n",
              "4       Feminino      Não                10  "
            ]
          },
          "execution_count": 7,
          "metadata": {},
          "output_type": "execute_result"
        }
      ],
      "source": [
        "# Exibindo as primeiras linhas do DataFrame para entender a estrutura dos dados\n",
        "clientes.head()"
      ]
    },
    {
      "cell_type": "code",
      "execution_count": 8,
      "metadata": {
        "colab": {
          "base_uri": "https://localhost:8080/"
        },
        "id": "hufuYMFXemuo",
        "outputId": "79a57056-59a9-409f-b01c-786068162f3e"
      },
      "outputs": [
        {
          "name": "stdout",
          "output_type": "stream",
          "text": [
            "<class 'pandas.core.frame.DataFrame'>\n",
            "RangeIndex: 6169 entries, 0 to 6168\n",
            "Data columns (total 9 columns):\n",
            " #   Column            Non-Null Count  Dtype \n",
            "---  ------            --------------  ----- \n",
            " 0   ID_compra         6169 non-null   int64 \n",
            " 1   ID_cliente        6169 non-null   int64 \n",
            " 2   cidade            6169 non-null   object\n",
            " 3   uf                6169 non-null   object\n",
            " 4   regiao            6169 non-null   object\n",
            " 5   idade             6169 non-null   int64 \n",
            " 6   sexo_biologico    6169 non-null   object\n",
            " 7   cashback          6169 non-null   object\n",
            " 8   avaliacao_compra  6169 non-null   int64 \n",
            "dtypes: int64(4), object(5)\n",
            "memory usage: 433.9+ KB\n"
          ]
        }
      ],
      "source": [
        "# Obtendo informações gerais sobre o DataFrame, como tipos de dados e valores não nulos\n",
        "clientes.info()"
      ]
    },
    {
      "cell_type": "code",
      "execution_count": 9,
      "metadata": {
        "colab": {
          "base_uri": "https://localhost:8080/",
          "height": 300
        },
        "id": "wSoqoezKrn2U",
        "outputId": "3ee70e7e-6e49-4eb4-925c-9219978750fa"
      },
      "outputs": [
        {
          "data": {
            "text/html": [
              "<div>\n",
              "<style scoped>\n",
              "    .dataframe tbody tr th:only-of-type {\n",
              "        vertical-align: middle;\n",
              "    }\n",
              "\n",
              "    .dataframe tbody tr th {\n",
              "        vertical-align: top;\n",
              "    }\n",
              "\n",
              "    .dataframe thead th {\n",
              "        text-align: right;\n",
              "    }\n",
              "</style>\n",
              "<table border=\"1\" class=\"dataframe\">\n",
              "  <thead>\n",
              "    <tr style=\"text-align: right;\">\n",
              "      <th></th>\n",
              "      <th>ID_compra</th>\n",
              "      <th>ID_cliente</th>\n",
              "      <th>idade</th>\n",
              "      <th>avaliacao_compra</th>\n",
              "    </tr>\n",
              "  </thead>\n",
              "  <tbody>\n",
              "    <tr>\n",
              "      <th>count</th>\n",
              "      <td>6169.000000</td>\n",
              "      <td>6169.000000</td>\n",
              "      <td>6169.000000</td>\n",
              "      <td>6169.000000</td>\n",
              "    </tr>\n",
              "    <tr>\n",
              "      <th>mean</th>\n",
              "      <td>3085.000000</td>\n",
              "      <td>5461.475280</td>\n",
              "      <td>38.260010</td>\n",
              "      <td>8.443670</td>\n",
              "    </tr>\n",
              "    <tr>\n",
              "      <th>std</th>\n",
              "      <td>1780.981237</td>\n",
              "      <td>2610.959977</td>\n",
              "      <td>9.838951</td>\n",
              "      <td>1.730584</td>\n",
              "    </tr>\n",
              "    <tr>\n",
              "      <th>min</th>\n",
              "      <td>1.000000</td>\n",
              "      <td>1005.000000</td>\n",
              "      <td>18.000000</td>\n",
              "      <td>0.000000</td>\n",
              "    </tr>\n",
              "    <tr>\n",
              "      <th>25%</th>\n",
              "      <td>1543.000000</td>\n",
              "      <td>3148.000000</td>\n",
              "      <td>31.000000</td>\n",
              "      <td>8.000000</td>\n",
              "    </tr>\n",
              "    <tr>\n",
              "      <th>50%</th>\n",
              "      <td>3085.000000</td>\n",
              "      <td>5436.000000</td>\n",
              "      <td>38.000000</td>\n",
              "      <td>9.000000</td>\n",
              "    </tr>\n",
              "    <tr>\n",
              "      <th>75%</th>\n",
              "      <td>4627.000000</td>\n",
              "      <td>7748.000000</td>\n",
              "      <td>45.000000</td>\n",
              "      <td>9.000000</td>\n",
              "    </tr>\n",
              "    <tr>\n",
              "      <th>max</th>\n",
              "      <td>6169.000000</td>\n",
              "      <td>9999.000000</td>\n",
              "      <td>70.000000</td>\n",
              "      <td>10.000000</td>\n",
              "    </tr>\n",
              "  </tbody>\n",
              "</table>\n",
              "</div>"
            ],
            "text/plain": [
              "         ID_compra   ID_cliente        idade  avaliacao_compra\n",
              "count  6169.000000  6169.000000  6169.000000       6169.000000\n",
              "mean   3085.000000  5461.475280    38.260010          8.443670\n",
              "std    1780.981237  2610.959977     9.838951          1.730584\n",
              "min       1.000000  1005.000000    18.000000          0.000000\n",
              "25%    1543.000000  3148.000000    31.000000          8.000000\n",
              "50%    3085.000000  5436.000000    38.000000          9.000000\n",
              "75%    4627.000000  7748.000000    45.000000          9.000000\n",
              "max    6169.000000  9999.000000    70.000000         10.000000"
            ]
          },
          "execution_count": 9,
          "metadata": {},
          "output_type": "execute_result"
        }
      ],
      "source": [
        "# Estatísticas descritivas para variáveis numéricas\n",
        "clientes.describe()"
      ]
    },
    {
      "cell_type": "code",
      "execution_count": 10,
      "metadata": {
        "colab": {
          "base_uri": "https://localhost:8080/"
        },
        "id": "5DvymXUirnww",
        "outputId": "19907f64-8f0c-4336-9a39-f6a818b36da9"
      },
      "outputs": [
        {
          "data": {
            "text/plain": [
              "sexo_biologico\n",
              "Feminino     3371\n",
              "Masculino    2798\n",
              "Name: count, dtype: int64"
            ]
          },
          "execution_count": 10,
          "metadata": {},
          "output_type": "execute_result"
        }
      ],
      "source": [
        "# Contagem de clientes por sexo\n",
        "clientes['sexo_biologico'].value_counts()"
      ]
    },
    {
      "cell_type": "code",
      "execution_count": 11,
      "metadata": {
        "colab": {
          "base_uri": "https://localhost:8080/"
        },
        "id": "JDJfAgamsp_o",
        "outputId": "9f400ca6-1f35-478e-cc04-4a2d5b24f21a"
      },
      "outputs": [
        {
          "data": {
            "text/plain": [
              "38.2600097260496"
            ]
          },
          "execution_count": 11,
          "metadata": {},
          "output_type": "execute_result"
        }
      ],
      "source": [
        "# Média de idade dos clientes\n",
        "clientes['idade'].mean()"
      ]
    },
    {
      "cell_type": "code",
      "execution_count": 12,
      "metadata": {
        "colab": {
          "base_uri": "https://localhost:8080/"
        },
        "id": "0eU6UIijsxmi",
        "outputId": "e0daf9ef-09b4-4d8f-9d09-91efac0c872e"
      },
      "outputs": [
        {
          "data": {
            "text/plain": [
              "regiao\n",
              "Sudeste         2666\n",
              "Nordeste        1882\n",
              "Sul              819\n",
              "Centro-Oeste     495\n",
              "Norte            307\n",
              "Name: count, dtype: int64"
            ]
          },
          "execution_count": 12,
          "metadata": {},
          "output_type": "execute_result"
        }
      ],
      "source": [
        "# Contagem de clientes por região\n",
        "clientes['regiao'].value_counts()"
      ]
    },
    {
      "cell_type": "code",
      "execution_count": 13,
      "metadata": {
        "colab": {
          "base_uri": "https://localhost:8080/"
        },
        "id": "d6qRMBFGs04K",
        "outputId": "2954f018-6347-4101-af71-6e77109f1bd3"
      },
      "outputs": [
        {
          "data": {
            "text/plain": [
              "8.44366996271681"
            ]
          },
          "execution_count": 13,
          "metadata": {},
          "output_type": "execute_result"
        }
      ],
      "source": [
        "# Avaliação média das compras\n",
        "clientes['avaliacao_compra'].mean()"
      ]
    },
    {
      "cell_type": "code",
      "execution_count": 14,
      "metadata": {
        "colab": {
          "base_uri": "https://localhost:8080/"
        },
        "id": "m6LQoUNys0vS",
        "outputId": "a19597a8-867c-47f1-d385-a6f713691328"
      },
      "outputs": [
        {
          "data": {
            "text/plain": [
              "cashback\n",
              "Não    3557\n",
              "Sim    2612\n",
              "Name: count, dtype: int64"
            ]
          },
          "execution_count": 14,
          "metadata": {},
          "output_type": "execute_result"
        }
      ],
      "source": [
        "# Verificando a participação no programa de cashback\n",
        "clientes['cashback'].value_counts()"
      ]
    },
    {
      "cell_type": "markdown",
      "metadata": {
        "id": "p-VYIPPUtN6D"
      },
      "source": [
        "### **Base de vendas**"
      ]
    },
    {
      "cell_type": "markdown",
      "metadata": {
        "id": "P_EDYSQYtN6E"
      },
      "source": [
        "> #### <strong><font color=\"7b71ff\" size =6>Prompt:</font></strong>\n",
        "\n",
        "Agora vamos explorar a base de vendas no formato de um DataFrame, chamado \"vendas\". Ela contém dados das vendas do e-commerce, sendo eles: ID da compra, data da compra, horário da compra, categoria do produto, preco unitário do produto, quantidade vendida, frete e o método do pagamento.\n",
        "\n",
        "Queremos fazer uma breve exploração dos dados para compreender um pouco sobre eles. Lembrando que os dados desta base também já estão limpos e tratados. Construa um código para executar esta etapa usando o Python."
      ]
    },
    {
      "cell_type": "code",
      "execution_count": 15,
      "metadata": {
        "colab": {
          "base_uri": "https://localhost:8080/",
          "height": 206
        },
        "id": "AFEBhZJotN6E",
        "outputId": "c6036ad2-18f1-4932-bade-fdc7763f3fa5"
      },
      "outputs": [
        {
          "data": {
            "text/html": [
              "<div>\n",
              "<style scoped>\n",
              "    .dataframe tbody tr th:only-of-type {\n",
              "        vertical-align: middle;\n",
              "    }\n",
              "\n",
              "    .dataframe tbody tr th {\n",
              "        vertical-align: top;\n",
              "    }\n",
              "\n",
              "    .dataframe thead th {\n",
              "        text-align: right;\n",
              "    }\n",
              "</style>\n",
              "<table border=\"1\" class=\"dataframe\">\n",
              "  <thead>\n",
              "    <tr style=\"text-align: right;\">\n",
              "      <th></th>\n",
              "      <th>ID_compra</th>\n",
              "      <th>data</th>\n",
              "      <th>horario</th>\n",
              "      <th>categoria</th>\n",
              "      <th>preco_unitario</th>\n",
              "      <th>quantidade</th>\n",
              "      <th>frete</th>\n",
              "      <th>metodo_pagamento</th>\n",
              "    </tr>\n",
              "  </thead>\n",
              "  <tbody>\n",
              "    <tr>\n",
              "      <th>0</th>\n",
              "      <td>6</td>\n",
              "      <td>2023-01-03</td>\n",
              "      <td>20:40</td>\n",
              "      <td>Eletrônicos</td>\n",
              "      <td>4457.9</td>\n",
              "      <td>4</td>\n",
              "      <td>713.26</td>\n",
              "      <td>Boleto</td>\n",
              "    </tr>\n",
              "    <tr>\n",
              "      <th>1</th>\n",
              "      <td>5</td>\n",
              "      <td>2023-01-03</td>\n",
              "      <td>21:48</td>\n",
              "      <td>Ferramentas e construção</td>\n",
              "      <td>115.9</td>\n",
              "      <td>1</td>\n",
              "      <td>0.00</td>\n",
              "      <td>PIX</td>\n",
              "    </tr>\n",
              "    <tr>\n",
              "      <th>2</th>\n",
              "      <td>9</td>\n",
              "      <td>2023-01-03</td>\n",
              "      <td>17:08</td>\n",
              "      <td>Beleza e cuidados pessoais</td>\n",
              "      <td>68.9</td>\n",
              "      <td>2</td>\n",
              "      <td>13.78</td>\n",
              "      <td>Cartão de Crédito</td>\n",
              "    </tr>\n",
              "    <tr>\n",
              "      <th>3</th>\n",
              "      <td>4</td>\n",
              "      <td>2023-01-03</td>\n",
              "      <td>14:29</td>\n",
              "      <td>Ferramentas e construção</td>\n",
              "      <td>80.9</td>\n",
              "      <td>5</td>\n",
              "      <td>40.45</td>\n",
              "      <td>PIX</td>\n",
              "    </tr>\n",
              "    <tr>\n",
              "      <th>4</th>\n",
              "      <td>8</td>\n",
              "      <td>2023-01-03</td>\n",
              "      <td>18:02</td>\n",
              "      <td>Beleza e cuidados pessoais</td>\n",
              "      <td>165.0</td>\n",
              "      <td>4</td>\n",
              "      <td>0.00</td>\n",
              "      <td>PIX</td>\n",
              "    </tr>\n",
              "  </tbody>\n",
              "</table>\n",
              "</div>"
            ],
            "text/plain": [
              "   ID_compra        data horario                   categoria  preco_unitario  \\\n",
              "0          6  2023-01-03   20:40                 Eletrônicos          4457.9   \n",
              "1          5  2023-01-03   21:48    Ferramentas e construção           115.9   \n",
              "2          9  2023-01-03   17:08  Beleza e cuidados pessoais            68.9   \n",
              "3          4  2023-01-03   14:29    Ferramentas e construção            80.9   \n",
              "4          8  2023-01-03   18:02  Beleza e cuidados pessoais           165.0   \n",
              "\n",
              "   quantidade   frete   metodo_pagamento  \n",
              "0           4  713.26             Boleto  \n",
              "1           1    0.00                PIX  \n",
              "2           2   13.78  Cartão de Crédito  \n",
              "3           5   40.45                PIX  \n",
              "4           4    0.00                PIX  "
            ]
          },
          "execution_count": 15,
          "metadata": {},
          "output_type": "execute_result"
        }
      ],
      "source": [
        "# Exibindo as primeiras linhas do DataFrame para entender a estrutura dos dados\n",
        "vendas.head()"
      ]
    },
    {
      "cell_type": "code",
      "execution_count": 16,
      "metadata": {
        "colab": {
          "base_uri": "https://localhost:8080/"
        },
        "id": "mZ0y0BdotN6E",
        "outputId": "461cd851-3c54-44b2-a959-87a0acb014ee"
      },
      "outputs": [
        {
          "name": "stdout",
          "output_type": "stream",
          "text": [
            "<class 'pandas.core.frame.DataFrame'>\n",
            "RangeIndex: 6169 entries, 0 to 6168\n",
            "Data columns (total 8 columns):\n",
            " #   Column            Non-Null Count  Dtype  \n",
            "---  ------            --------------  -----  \n",
            " 0   ID_compra         6169 non-null   int64  \n",
            " 1   data              6169 non-null   object \n",
            " 2   horario           6169 non-null   object \n",
            " 3   categoria         6169 non-null   object \n",
            " 4   preco_unitario    6169 non-null   float64\n",
            " 5   quantidade        6169 non-null   int64  \n",
            " 6   frete             6169 non-null   float64\n",
            " 7   metodo_pagamento  6169 non-null   object \n",
            "dtypes: float64(2), int64(2), object(4)\n",
            "memory usage: 385.7+ KB\n"
          ]
        }
      ],
      "source": [
        "# Obtendo informações gerais sobre o DataFrame, como tipos de dados e valores não nulos\n",
        "vendas.info()"
      ]
    },
    {
      "cell_type": "code",
      "execution_count": 17,
      "metadata": {
        "id": "EhIADWtEuad6"
      },
      "outputs": [],
      "source": [
        "# Passando a data para datetime\n",
        "vendas[\"data\"] = pd.to_datetime(vendas[\"data\"], format=\"%Y-%m-%d\")"
      ]
    },
    {
      "cell_type": "code",
      "execution_count": 18,
      "metadata": {
        "colab": {
          "base_uri": "https://localhost:8080/",
          "height": 300
        },
        "id": "t9XKMhb7tN6E",
        "outputId": "3dda650c-9f6a-4ace-aa16-2bf3a7a64581"
      },
      "outputs": [
        {
          "data": {
            "text/html": [
              "<div>\n",
              "<style scoped>\n",
              "    .dataframe tbody tr th:only-of-type {\n",
              "        vertical-align: middle;\n",
              "    }\n",
              "\n",
              "    .dataframe tbody tr th {\n",
              "        vertical-align: top;\n",
              "    }\n",
              "\n",
              "    .dataframe thead th {\n",
              "        text-align: right;\n",
              "    }\n",
              "</style>\n",
              "<table border=\"1\" class=\"dataframe\">\n",
              "  <thead>\n",
              "    <tr style=\"text-align: right;\">\n",
              "      <th></th>\n",
              "      <th>ID_compra</th>\n",
              "      <th>data</th>\n",
              "      <th>preco_unitario</th>\n",
              "      <th>quantidade</th>\n",
              "      <th>frete</th>\n",
              "    </tr>\n",
              "  </thead>\n",
              "  <tbody>\n",
              "    <tr>\n",
              "      <th>count</th>\n",
              "      <td>6169.000000</td>\n",
              "      <td>6169</td>\n",
              "      <td>6169.000000</td>\n",
              "      <td>6169.000000</td>\n",
              "      <td>6169.000000</td>\n",
              "    </tr>\n",
              "    <tr>\n",
              "      <th>mean</th>\n",
              "      <td>3085.000000</td>\n",
              "      <td>2023-08-20 00:12:22.292105984</td>\n",
              "      <td>873.234738</td>\n",
              "      <td>3.004863</td>\n",
              "      <td>119.233832</td>\n",
              "    </tr>\n",
              "    <tr>\n",
              "      <th>min</th>\n",
              "      <td>1.000000</td>\n",
              "      <td>2023-01-03 00:00:00</td>\n",
              "      <td>2.900000</td>\n",
              "      <td>1.000000</td>\n",
              "      <td>0.000000</td>\n",
              "    </tr>\n",
              "    <tr>\n",
              "      <th>25%</th>\n",
              "      <td>1543.000000</td>\n",
              "      <td>2023-05-30 00:00:00</td>\n",
              "      <td>44.900000</td>\n",
              "      <td>2.000000</td>\n",
              "      <td>0.320000</td>\n",
              "    </tr>\n",
              "    <tr>\n",
              "      <th>50%</th>\n",
              "      <td>3085.000000</td>\n",
              "      <td>2023-08-31 00:00:00</td>\n",
              "      <td>93.900000</td>\n",
              "      <td>3.000000</td>\n",
              "      <td>7.550000</td>\n",
              "    </tr>\n",
              "    <tr>\n",
              "      <th>75%</th>\n",
              "      <td>4627.000000</td>\n",
              "      <td>2023-11-23 00:00:00</td>\n",
              "      <td>221.900000</td>\n",
              "      <td>4.000000</td>\n",
              "      <td>29.240000</td>\n",
              "    </tr>\n",
              "    <tr>\n",
              "      <th>max</th>\n",
              "      <td>6169.000000</td>\n",
              "      <td>2023-12-31 00:00:00</td>\n",
              "      <td>8000.000000</td>\n",
              "      <td>5.000000</td>\n",
              "      <td>4521.540000</td>\n",
              "    </tr>\n",
              "    <tr>\n",
              "      <th>std</th>\n",
              "      <td>1780.981237</td>\n",
              "      <td>NaN</td>\n",
              "      <td>1852.064342</td>\n",
              "      <td>1.420725</td>\n",
              "      <td>366.149225</td>\n",
              "    </tr>\n",
              "  </tbody>\n",
              "</table>\n",
              "</div>"
            ],
            "text/plain": [
              "         ID_compra                           data  preco_unitario  \\\n",
              "count  6169.000000                           6169     6169.000000   \n",
              "mean   3085.000000  2023-08-20 00:12:22.292105984      873.234738   \n",
              "min       1.000000            2023-01-03 00:00:00        2.900000   \n",
              "25%    1543.000000            2023-05-30 00:00:00       44.900000   \n",
              "50%    3085.000000            2023-08-31 00:00:00       93.900000   \n",
              "75%    4627.000000            2023-11-23 00:00:00      221.900000   \n",
              "max    6169.000000            2023-12-31 00:00:00     8000.000000   \n",
              "std    1780.981237                            NaN     1852.064342   \n",
              "\n",
              "        quantidade        frete  \n",
              "count  6169.000000  6169.000000  \n",
              "mean      3.004863   119.233832  \n",
              "min       1.000000     0.000000  \n",
              "25%       2.000000     0.320000  \n",
              "50%       3.000000     7.550000  \n",
              "75%       4.000000    29.240000  \n",
              "max       5.000000  4521.540000  \n",
              "std       1.420725   366.149225  "
            ]
          },
          "execution_count": 18,
          "metadata": {},
          "output_type": "execute_result"
        }
      ],
      "source": [
        "# Estatísticas descritivas para variáveis numéricas\n",
        "vendas.describe()"
      ]
    },
    {
      "cell_type": "code",
      "execution_count": 19,
      "metadata": {
        "colab": {
          "base_uri": "https://localhost:8080/"
        },
        "id": "tKEc_cp-tN6E",
        "outputId": "d9dfd22f-ab89-4ddf-856d-f77de0ffddca"
      },
      "outputs": [
        {
          "data": {
            "text/plain": [
              "18537"
            ]
          },
          "execution_count": 19,
          "metadata": {},
          "output_type": "execute_result"
        }
      ],
      "source": [
        "# Quantidade total de produtos vendidos\n",
        "vendas['quantidade'].sum()"
      ]
    },
    {
      "cell_type": "code",
      "execution_count": 20,
      "metadata": {
        "colab": {
          "base_uri": "https://localhost:8080/"
        },
        "id": "E2PeMW6VtN6F",
        "outputId": "4e8aa3d0-e95a-4447-949a-d3e9afc6f08d"
      },
      "outputs": [
        {
          "data": {
            "text/plain": [
              "735553.51"
            ]
          },
          "execution_count": 20,
          "metadata": {},
          "output_type": "execute_result"
        }
      ],
      "source": [
        "# Valor total do frete arrecadado\n",
        "vendas['frete'].sum()"
      ]
    },
    {
      "cell_type": "code",
      "execution_count": 21,
      "metadata": {
        "colab": {
          "base_uri": "https://localhost:8080/"
        },
        "id": "x8D3L-4NtN6M",
        "outputId": "5ca7e7fc-1f7f-482a-e46f-33ef3096f481"
      },
      "outputs": [
        {
          "data": {
            "text/plain": [
              "metodo_pagamento\n",
              "Cartão de Crédito    2851\n",
              "PIX                  2244\n",
              "Cartão de Débito      547\n",
              "Boleto                527\n",
              "Name: count, dtype: int64"
            ]
          },
          "execution_count": 21,
          "metadata": {},
          "output_type": "execute_result"
        }
      ],
      "source": [
        "# Métodos de pagamento utilizados e suas frequências\n",
        "vendas['metodo_pagamento'].value_counts()"
      ]
    },
    {
      "cell_type": "markdown",
      "metadata": {
        "id": "JVB8p0kteSvw"
      },
      "source": [
        "## **1.4 - Tipos de gráficos**\n",
        "\n",
        "---\n",
        "\n"
      ]
    },
    {
      "cell_type": "markdown",
      "metadata": {
        "id": "pTkBysJDwR-j"
      },
      "source": [
        "Já exploramos um pouco das duas bases do projeto e obtivemos alguns insights interessantes que podem ser importantes na construção de nossas visuais.\n",
        "\n",
        "Agora, vamos tentar simplificar a nossa análise consolidando os dados em uma única tabela para a partir daí debruçar nas possibilidades de visuais combinando os dados. Será que o GPT pode nos ajudar aqui?"
      ]
    },
    {
      "cell_type": "markdown",
      "metadata": {
        "id": "miGff51fwRRF"
      },
      "source": [
        "> #### <strong><font color=\"7b71ff\" size =6>Prompt:</font></strong>\n",
        "\n",
        "Vamos agora unir as duas bases do nosso projeto em uma só utilizando como chave a coluna \"ID_compra\". Além disso, vamos organizar as colunas na seguinte sequência:\n",
        "\n",
        "* ID_compra\n",
        "* data\n",
        "* horario\n",
        "* categoria\n",
        "* preco_unitario\n",
        "* quantidade\n",
        "* frete\n",
        "* metodo_pagamento\n",
        "* ID_cliente\n",
        "* idade\n",
        "* sexo_biologico\n",
        "* cidade\n",
        "* uf\n",
        "* regiao\n",
        "* cashback\n",
        "* avaliacao_compra\n",
        "\n",
        "Construa um código para executar esta etapa usando o Python e a biblioteca Pandas."
      ]
    },
    {
      "cell_type": "code",
      "execution_count": 22,
      "metadata": {
        "id": "2WieoQJGeoIr"
      },
      "outputs": [],
      "source": [
        "# Supondo que você tenha os DataFrames \"clientes\" e \"vendas\" carregados\n",
        "\n",
        "# Unindo as bases de dados com base na coluna \"ID_compra\"\n",
        "df = pd.merge(vendas, clientes, on='ID_compra')\n",
        "\n",
        "# Organizando as colunas na sequência desejada\n",
        "colunas_organizadas = [\n",
        "    'ID_compra', 'data', 'horario', 'categoria', 'preco_unitario',\n",
        "    'quantidade', 'frete', 'metodo_pagamento', 'ID_cliente', 'idade',\n",
        "    'sexo_biologico', 'cidade', 'uf', 'regiao', 'cashback', 'avaliacao_compra']\n",
        "\n",
        "df = df[colunas_organizadas]"
      ]
    },
    {
      "cell_type": "code",
      "execution_count": 23,
      "metadata": {
        "colab": {
          "base_uri": "https://localhost:8080/",
          "height": 293
        },
        "id": "05hs9L7N2Y1f",
        "outputId": "ef9f581e-9f22-4c75-cfea-9c9ddd1e4042"
      },
      "outputs": [
        {
          "data": {
            "text/html": [
              "<div>\n",
              "<style scoped>\n",
              "    .dataframe tbody tr th:only-of-type {\n",
              "        vertical-align: middle;\n",
              "    }\n",
              "\n",
              "    .dataframe tbody tr th {\n",
              "        vertical-align: top;\n",
              "    }\n",
              "\n",
              "    .dataframe thead th {\n",
              "        text-align: right;\n",
              "    }\n",
              "</style>\n",
              "<table border=\"1\" class=\"dataframe\">\n",
              "  <thead>\n",
              "    <tr style=\"text-align: right;\">\n",
              "      <th></th>\n",
              "      <th>ID_compra</th>\n",
              "      <th>data</th>\n",
              "      <th>horario</th>\n",
              "      <th>categoria</th>\n",
              "      <th>preco_unitario</th>\n",
              "      <th>quantidade</th>\n",
              "      <th>frete</th>\n",
              "      <th>metodo_pagamento</th>\n",
              "      <th>ID_cliente</th>\n",
              "      <th>idade</th>\n",
              "      <th>sexo_biologico</th>\n",
              "      <th>cidade</th>\n",
              "      <th>uf</th>\n",
              "      <th>regiao</th>\n",
              "      <th>cashback</th>\n",
              "      <th>avaliacao_compra</th>\n",
              "    </tr>\n",
              "  </thead>\n",
              "  <tbody>\n",
              "    <tr>\n",
              "      <th>0</th>\n",
              "      <td>6</td>\n",
              "      <td>2023-01-03</td>\n",
              "      <td>20:40</td>\n",
              "      <td>Eletrônicos</td>\n",
              "      <td>4457.9</td>\n",
              "      <td>4</td>\n",
              "      <td>713.26</td>\n",
              "      <td>Boleto</td>\n",
              "      <td>6149</td>\n",
              "      <td>30</td>\n",
              "      <td>Masculino</td>\n",
              "      <td>Porto Alegre</td>\n",
              "      <td>Rio Grande do Sul</td>\n",
              "      <td>Sul</td>\n",
              "      <td>Sim</td>\n",
              "      <td>10</td>\n",
              "    </tr>\n",
              "    <tr>\n",
              "      <th>1</th>\n",
              "      <td>5</td>\n",
              "      <td>2023-01-03</td>\n",
              "      <td>21:48</td>\n",
              "      <td>Ferramentas e construção</td>\n",
              "      <td>115.9</td>\n",
              "      <td>1</td>\n",
              "      <td>0.00</td>\n",
              "      <td>PIX</td>\n",
              "      <td>9491</td>\n",
              "      <td>36</td>\n",
              "      <td>Masculino</td>\n",
              "      <td>São Paulo</td>\n",
              "      <td>São Paulo</td>\n",
              "      <td>Sudeste</td>\n",
              "      <td>Sim</td>\n",
              "      <td>8</td>\n",
              "    </tr>\n",
              "    <tr>\n",
              "      <th>2</th>\n",
              "      <td>9</td>\n",
              "      <td>2023-01-03</td>\n",
              "      <td>17:08</td>\n",
              "      <td>Beleza e cuidados pessoais</td>\n",
              "      <td>68.9</td>\n",
              "      <td>2</td>\n",
              "      <td>13.78</td>\n",
              "      <td>Cartão de Crédito</td>\n",
              "      <td>5288</td>\n",
              "      <td>39</td>\n",
              "      <td>Feminino</td>\n",
              "      <td>Porto Velho</td>\n",
              "      <td>Rondônia</td>\n",
              "      <td>Norte</td>\n",
              "      <td>Não</td>\n",
              "      <td>7</td>\n",
              "    </tr>\n",
              "    <tr>\n",
              "      <th>3</th>\n",
              "      <td>4</td>\n",
              "      <td>2023-01-03</td>\n",
              "      <td>14:29</td>\n",
              "      <td>Ferramentas e construção</td>\n",
              "      <td>80.9</td>\n",
              "      <td>5</td>\n",
              "      <td>40.45</td>\n",
              "      <td>PIX</td>\n",
              "      <td>9679</td>\n",
              "      <td>35</td>\n",
              "      <td>Masculino</td>\n",
              "      <td>Recife</td>\n",
              "      <td>Pernambuco</td>\n",
              "      <td>Nordeste</td>\n",
              "      <td>Sim</td>\n",
              "      <td>9</td>\n",
              "    </tr>\n",
              "    <tr>\n",
              "      <th>4</th>\n",
              "      <td>8</td>\n",
              "      <td>2023-01-03</td>\n",
              "      <td>18:02</td>\n",
              "      <td>Beleza e cuidados pessoais</td>\n",
              "      <td>165.0</td>\n",
              "      <td>4</td>\n",
              "      <td>0.00</td>\n",
              "      <td>PIX</td>\n",
              "      <td>1380</td>\n",
              "      <td>50</td>\n",
              "      <td>Masculino</td>\n",
              "      <td>São Paulo</td>\n",
              "      <td>São Paulo</td>\n",
              "      <td>Sudeste</td>\n",
              "      <td>Não</td>\n",
              "      <td>9</td>\n",
              "    </tr>\n",
              "  </tbody>\n",
              "</table>\n",
              "</div>"
            ],
            "text/plain": [
              "   ID_compra       data horario                   categoria  preco_unitario  \\\n",
              "0          6 2023-01-03   20:40                 Eletrônicos          4457.9   \n",
              "1          5 2023-01-03   21:48    Ferramentas e construção           115.9   \n",
              "2          9 2023-01-03   17:08  Beleza e cuidados pessoais            68.9   \n",
              "3          4 2023-01-03   14:29    Ferramentas e construção            80.9   \n",
              "4          8 2023-01-03   18:02  Beleza e cuidados pessoais           165.0   \n",
              "\n",
              "   quantidade   frete   metodo_pagamento  ID_cliente  idade sexo_biologico  \\\n",
              "0           4  713.26             Boleto        6149     30      Masculino   \n",
              "1           1    0.00                PIX        9491     36      Masculino   \n",
              "2           2   13.78  Cartão de Crédito        5288     39       Feminino   \n",
              "3           5   40.45                PIX        9679     35      Masculino   \n",
              "4           4    0.00                PIX        1380     50      Masculino   \n",
              "\n",
              "         cidade                 uf    regiao cashback  avaliacao_compra  \n",
              "0  Porto Alegre  Rio Grande do Sul       Sul      Sim                10  \n",
              "1     São Paulo          São Paulo   Sudeste      Sim                 8  \n",
              "2   Porto Velho           Rondônia     Norte      Não                 7  \n",
              "3        Recife         Pernambuco  Nordeste      Sim                 9  \n",
              "4     São Paulo          São Paulo   Sudeste      Não                 9  "
            ]
          },
          "execution_count": 23,
          "metadata": {},
          "output_type": "execute_result"
        }
      ],
      "source": [
        "df.head()"
      ]
    },
    {
      "cell_type": "markdown",
      "metadata": {
        "id": "PL_GcH_02pAR"
      },
      "source": [
        "Agora vamos pedir ao ChatGPT ideias de visuais que podemos construir com esses dados."
      ]
    },
    {
      "cell_type": "markdown",
      "metadata": {
        "id": "N7TfK-br2HxC"
      },
      "source": [
        "> #### <strong><font color=\"7b71ff\" size =6>Prompt:</font></strong>\n",
        "\n",
        "Agora com o nosso \"df\" já construído por meio das duas bases do projeto, vamos iniciar um novo processo. Queremos iniciar a etapa da geração dos visuais que possam auxiliar na análise do faturamento ao longo do ano, perfil do cliente e outros dados que possam ser relevantes à análise e construção do nosso storytelling.\n",
        "\n",
        "As colunas de \"df\" são:\n",
        "\n",
        "* ID_compra: número único atribuído a compra realizada, no formato int\n",
        "* data: data da compra, no formato datetime\n",
        "* horario: horário da compra no formato object\n",
        "* categoria: categoria do produto, no formato object\n",
        "* preco_unitario: preço de uma unidade do produto, no formato float\n",
        "* quantidade: quantidade vendida do produto, no formato int\n",
        "* frete: frete a ser pago no total da compra, no formato float\n",
        "* metodo_pagamento: método de pagamento da compra, no formato object\n",
        "* ID_cliente: número único atribuído ao cliente, no formato int\n",
        "* idade: idade do cliente, no formato int\n",
        "* sexo_biologico: sexo biológico do cliente, no formato object\n",
        "* cidade: cidade do cliente, no formato object\n",
        "* uf: unidade federativa do cliente, no formato object\n",
        "* regiao: região do cliente, no formato object\n",
        "* cashback: se o cliente participa ou não do programa de cashback da loja, no formato object\n",
        "* avaliacao_compra: avaliação do cliente pela compra, no formato int\n",
        "\n",
        "O objetivo é abstrair e buscar relações para construir visuais interessantes para a análise dos dados dos clientes e vendas da Zoop.\n",
        "\n",
        "Com base nas informações fornecidas, quais tipos de visualizações seriam úteis para atingir o objetivo de analisar os dados?"
      ]
    },
    {
      "cell_type": "markdown",
      "metadata": {
        "id": "GINiZb145w5-"
      },
      "source": [
        "### ***Sugestões do ChatGPT***:\n",
        "\n",
        "\n",
        "Com base nas informações fornecidas sobre as colunas do DataFrame \"df\", aqui estão algumas sugestões de visualizações que podem ser úteis para analisar os dados dos clientes e vendas da Zoop:\n",
        "\n",
        "1. **Gráfico de Linha Temporal para Faturamento ao Longo do Ano:**\n",
        "   - Utilize a coluna \"data\" para criar um gráfico de linha mostrando o faturamento total ao longo do ano. Isso pode ser mensal, semanal ou diário, dependendo da granularidade dos seus dados.\n",
        "\n",
        "2. **Gráfico de Barras para Categorias de Produtos Vendidos:**\n",
        "   - Utilize a coluna \"categoria\" para criar um gráfico de barras mostrando a distribuição das vendas por categoria de produtos. Isso pode ajudar a identificar as categorias mais populares.\n",
        "\n",
        "3. **Gráfico de Barras ou Pizza para Métodos de Pagamento:**\n",
        "   - Utilize a coluna \"metodo_pagamento\" para criar um gráfico de barras ou pizza mostrando a distribuição de métodos de pagamento utilizados pelos clientes.\n",
        "\n",
        "4. **Gráfico de Dispersão para Relacionamento entre Idade e Avaliação de Compra:**\n",
        "   - Utilize as colunas \"idade\" e \"avaliacao_compra\" para criar um gráfico de dispersão e verificar se há alguma correlação entre a idade dos clientes e a avaliação da compra.\n",
        "\n",
        "5. **Gráfico de Barras para Participação no Programa de Cashback:**\n",
        "   - Utilize a coluna \"cashback\" para criar um gráfico de barras mostrando a participação dos clientes no programa de cashback.\n",
        "\n",
        "6. **Mapa de Calor para Correlações:**\n",
        "   - Crie um mapa de calor usando as correlações entre diferentes variáveis. Isso pode ajudar a identificar padrões e relações entre as diferentes características dos clientes e as transações.\n",
        "\n",
        "7. **Gráfico de Boxplot para Preço Unitário por Categoria de Produto:**\n",
        "   - Utilize as colunas \"preco_unitario\" e \"categoria\" para criar um gráfico de boxplot e identificar a variabilidade de preços em diferentes categorias de produtos.\n",
        "\n",
        "8. **Gráfico de Barras para Avaliações Médias por Região:**\n",
        "   - Utilize as colunas \"avaliacao_compra\" e \"regiao\" para criar um gráfico de barras mostrando as avaliações médias das compras em diferentes regiões.\n",
        "\n",
        "Essas são apenas algumas ideias iniciais, e a escolha das visualizações dependerá dos insights específicos que você busca e dos questionamentos que deseja responder com a análise dos dados. </font>\n"
      ]
    },
    {
      "cell_type": "markdown",
      "metadata": {
        "id": "a6Uo02O-6EUc"
      },
      "source": [
        "> O ChatGPT trouxe algumas ideias interessantes para criação dos gráficos.\n",
        ">\n",
        "> Porém, como já possuimos alguns questionamentos para nos orientar na criação dos visuais, não vamos seguir todas as sugestões aqui apontadas.\n",
        ">\n",
        "> Fica como uma sugestão para te auxiliar quando você estiver trabalhando com outras bases e estiver com dificuldade em pensar em quais visuais você poderá construir.\n",
        ">\n",
        "> **Observação:** Lembrando que é muito provável que os gráficos apontados para mim, não sejam necessariamente iguais aos que aparecerá para você, dado a aletoriedade das respostas de qualquer IA generativa."
      ]
    },
    {
      "cell_type": "markdown",
      "metadata": {
        "id": "kqkayY-seS0U"
      },
      "source": [
        "# **Aula 2 - Visualizando os dados**\n",
        "\n",
        "\n"
      ]
    },
    {
      "cell_type": "markdown",
      "metadata": {
        "id": "SIoB6FSVZTtb"
      },
      "source": [
        "## **2.1 - Definindo os visuais**\n",
        "\n",
        "---\n",
        "\n"
      ]
    },
    {
      "cell_type": "markdown",
      "metadata": {
        "id": "6P__Cl1yZQP0"
      },
      "source": [
        "Após a etapa de exploração dos dados, vamos ler as questões que foram levantadas na demanda que recebemos. Assim, começaremos a pensar nos visuais que iremos construir com o auxílio da IA.\n",
        "\n",
        "### **Questionamentos**\n",
        "\n",
        "#### Vendas\n",
        "\n",
        "1.   Quais foram os métodos de pagamentos mais utilizados em 2023?\n",
        "2.   Qual foi o faturamento por categoria em 2023?\n",
        "3.   Como foram as vendas ao longo dos meses em 2023?\n",
        "4.   Como esta dividida a venda por trimestre por método de pagamento? Existe um período em que algum tipo de pagamento se sobressai?\n",
        "\n",
        "#### Perfil do cliente\n",
        "\n",
        "5.   Qual a proporção da clientela que participa de nosso programa de cashback?\n",
        "6.   Como estão distribuídas as avaliações de produto? Temos bons números gerais?\n",
        "7.   Como está distribuído o nosso público por idade e sexo biológico? Existe um grupo que sobressai?\n",
        "\n",
        "Inicialmente, vamos fazer a primeira versão dos gráficos, ainda não refinados com os elementos visuais, para mais a frente ir adicionando as diversas técnicas de storytelling."
      ]
    },
    {
      "cell_type": "markdown",
      "metadata": {
        "id": "iSe6OeO-UQKR"
      },
      "source": [
        "### **1º Questionamento:** Quais foram os métodos de pagamentos mais utilizados em 2023?"
      ]
    },
    {
      "cell_type": "markdown",
      "metadata": {
        "id": "LHFS7yp3gEEo"
      },
      "source": [
        "Vamos pedir ao ChatGPT para nos auxiliar na construção desse visual. Primeiro, vamos tratar o dado gerando uma tabela resumida (que também é uma espécie de visual) e em seguida construir o 1º gráfico."
      ]
    },
    {
      "cell_type": "markdown",
      "metadata": {
        "id": "Rh4xQfiZfoAZ"
      },
      "source": [
        "> #### <strong><font color=\"7b71ff\" size =6>Prompt:</font></strong>\n",
        "\n",
        "Temos um DataFrame chamado \"df\" e queremos construir um visual que apresente quais métodos de pagamentos foram os mais utilizados.\n",
        "\n",
        "Em \"df\", temos a coluna \"metodo_pagamento\" com os 4 tipos de pagamento utilizado na compra.\n",
        "\n",
        "Inicialmente, queremos construir uma tabela chamada \"metodos_de_pagamento\" que resuma os dados dessa coluna e, na sequência, desejamos criar uma visualização que apresente a quantidade desses métodos de pagamento presentes na tabela \"metodo_pagamento\".\n",
        "\n",
        "Utilize as bibliotecas de visualização de dados do Python para criar essa visualização."
      ]
    },
    {
      "cell_type": "code",
      "execution_count": 24,
      "metadata": {
        "colab": {
          "base_uri": "https://localhost:8080/",
          "height": 175
        },
        "id": "DOv3lXw0flCW",
        "outputId": "cfd5f074-83b8-4cd1-91e6-8224611d09db"
      },
      "outputs": [
        {
          "data": {
            "text/html": [
              "<div>\n",
              "<style scoped>\n",
              "    .dataframe tbody tr th:only-of-type {\n",
              "        vertical-align: middle;\n",
              "    }\n",
              "\n",
              "    .dataframe tbody tr th {\n",
              "        vertical-align: top;\n",
              "    }\n",
              "\n",
              "    .dataframe thead th {\n",
              "        text-align: right;\n",
              "    }\n",
              "</style>\n",
              "<table border=\"1\" class=\"dataframe\">\n",
              "  <thead>\n",
              "    <tr style=\"text-align: right;\">\n",
              "      <th></th>\n",
              "      <th>Metodo de Pagamento</th>\n",
              "      <th>Quantidade</th>\n",
              "    </tr>\n",
              "  </thead>\n",
              "  <tbody>\n",
              "    <tr>\n",
              "      <th>0</th>\n",
              "      <td>Cartão de Crédito</td>\n",
              "      <td>2851</td>\n",
              "    </tr>\n",
              "    <tr>\n",
              "      <th>1</th>\n",
              "      <td>PIX</td>\n",
              "      <td>2244</td>\n",
              "    </tr>\n",
              "    <tr>\n",
              "      <th>2</th>\n",
              "      <td>Cartão de Débito</td>\n",
              "      <td>547</td>\n",
              "    </tr>\n",
              "    <tr>\n",
              "      <th>3</th>\n",
              "      <td>Boleto</td>\n",
              "      <td>527</td>\n",
              "    </tr>\n",
              "  </tbody>\n",
              "</table>\n",
              "</div>"
            ],
            "text/plain": [
              "  Metodo de Pagamento  Quantidade\n",
              "0   Cartão de Crédito        2851\n",
              "1                 PIX        2244\n",
              "2    Cartão de Débito         547\n",
              "3              Boleto         527"
            ]
          },
          "execution_count": 24,
          "metadata": {},
          "output_type": "execute_result"
        }
      ],
      "source": [
        "import pandas as pd\n",
        "import matplotlib.pyplot as plt\n",
        "\n",
        "# Supondo que você tenha o DataFrame \"df\" carregado\n",
        "\n",
        "# Criar a tabela \"metodos_de_pagamento\"\n",
        "metodos_de_pagamento = df['metodo_pagamento'].value_counts().reset_index()\n",
        "metodos_de_pagamento.columns = ['Metodo de Pagamento', 'Quantidade']\n",
        "\n",
        "# Exibir a tabela\n",
        "metodos_de_pagamento"
      ]
    },
    {
      "cell_type": "code",
      "execution_count": 25,
      "metadata": {
        "colab": {
          "base_uri": "https://localhost:8080/",
          "height": 648
        },
        "id": "dibuRog3isZr",
        "outputId": "76e63584-e812-4929-8f87-150dba60344e"
      },
      "outputs": [
        {
          "data": {
            "image/png": "[encoded data removed]",
            "text/plain": [
              "<Figure size 1000x600 with 1 Axes>"
            ]
          },
          "metadata": {},
          "output_type": "display_data"
        }
      ],
      "source": [
        "# Visualização\n",
        "plt.figure(figsize=(10, 6))\n",
        "plt.bar(metodos_de_pagamento['Metodo de Pagamento'], metodos_de_pagamento['Quantidade'], color='skyblue')\n",
        "plt.title('Quantidade de Métodos de Pagamento Utilizados')\n",
        "plt.xlabel('Método de Pagamento')\n",
        "plt.ylabel('Quantidade')\n",
        "plt.xticks(rotation=45, ha='right')\n",
        "\n",
        "# Exibir o gráfico\n",
        "plt.show()"
      ]
    },
    {
      "cell_type": "markdown",
      "metadata": {
        "id": "MGJhey-TnaiL"
      },
      "source": [
        "<font color=\"7b71ff\" size=4> Comentários: </font>\n",
        "\n",
        "---\n",
        "\n",
        "Nós conseguimos observar que mesmo sem especificar o tipo de gráfico, pelo modo que apresentamos os dados ao ChatGPT ele conseguiu representar com sucesso um visual que traga as informações desejadas. Um gráfico de colunas realmente é o ideal para representação das quantidades de uma ou mais categorias de dados.\n",
        "\n",
        "Vamos ajustar aos poucos os visuais para que fiquem adequados para o nosso público e que tenha a identidade visual da empresa."
      ]
    },
    {
      "cell_type": "markdown",
      "metadata": {
        "id": "kurncRvSnScK"
      },
      "source": [
        "## **2.2 - Comparando dados**\n",
        "\n",
        "---\n",
        "\n"
      ]
    },
    {
      "cell_type": "markdown",
      "metadata": {
        "id": "95QnNKLFop9F"
      },
      "source": [
        "Agora que já criamos nosso primeiro visual, podemos prosseguir com a construção dos próximos visuais. Aqui, vamos focar em gráficos de comparação para responder a mais dois questionamentos."
      ]
    },
    {
      "cell_type": "markdown",
      "metadata": {
        "id": "ppXoPRh1nScL"
      },
      "source": [
        "### **2º Questionamento:** Qual foi o faturamento por categoria em 2023?"
      ]
    },
    {
      "cell_type": "markdown",
      "metadata": {
        "id": "N4Eza61BpZGs"
      },
      "source": [
        "**Observação:** Para o faturamento, vamos considerar aqui o produto entre o preço unitário e a quantidade somadas ao frete de cada produto."
      ]
    },
    {
      "cell_type": "markdown",
      "metadata": {
        "id": "T16F-NuZnScL"
      },
      "source": [
        "> #### <strong><font color=\"7b71ff\" size =6>Prompt:</font></strong>\n",
        "\n",
        "Temos um DataFrame chamado \"df\" e queremos construir um visual de gráfico de barras horizontais que apresente o faturamento por categoria da Zoop.\n",
        "\n",
        "Em \"df\", temos as colunas:\n",
        "* categoria: categorias dos produtos\n",
        "* preco_unitario: preço de uma unidade do produto\n",
        "* quantidade: quantidade vendida do produto\n",
        "* frete: frete a ser pago no total da compra.\n",
        "\n",
        "Desejamos criar uma visualização que apresente o faturamento de cada categoria, em que o faturamento é dado pelo produto entre o preço unitário e a quantidade somadas ao frete.\n",
        "\n",
        "Utilize as bibliotecas de visualização de dados do Python para criar essa visualização."
      ]
    },
    {
      "cell_type": "code",
      "execution_count": 26,
      "metadata": {
        "colab": {
          "base_uri": "https://localhost:8080/",
          "height": 718
        },
        "id": "dGthrTKuejNz",
        "outputId": "61a231c2-dd0e-4671-ed0b-9f1a0316b372"
      },
      "outputs": [
        {
          "data": {
            "image/png": "[encoded data removed]",
            "text/plain": [
              "<Figure size 1000x800 with 1 Axes>"
            ]
          },
          "metadata": {},
          "output_type": "display_data"
        }
      ],
      "source": [
        "import pandas as pd\n",
        "import matplotlib.pyplot as plt\n",
        "\n",
        "# Supondo que você tenha o DataFrame \"df\" carregado\n",
        "\n",
        "# Calcular o faturamento para cada categoria\n",
        "df['faturamento'] = (df['preco_unitario'] * df['quantidade']) + df['frete']\n",
        "\n",
        "# Agrupar por categoria e calcular o faturamento total\n",
        "faturamento_por_categoria = df.groupby('categoria')['faturamento'].sum().reset_index()\n",
        "\n",
        "# Ordenar por faturamento\n",
        "faturamento_por_categoria = faturamento_por_categoria.sort_values(by='faturamento', ascending=False)\n",
        "\n",
        "# Visualização\n",
        "plt.figure(figsize=(10, 8))\n",
        "plt.barh(faturamento_por_categoria['categoria'], faturamento_por_categoria['faturamento'], color='skyblue')\n",
        "plt.title('Faturamento por Categoria')\n",
        "plt.xlabel('Faturamento')\n",
        "plt.ylabel('Categoria')\n",
        "\n",
        "# Exibir o gráfico\n",
        "plt.show()\n"
      ]
    },
    {
      "cell_type": "markdown",
      "metadata": {
        "id": "VN7V9ek_nXkj"
      },
      "source": [
        "<font color=\"7b71ff\" size=4> Comentários: </font>\n",
        "\n",
        "---\n",
        "\n",
        "Aqui especificamos o tipo de gráfico, guiando o ChatGPT para criação do nosso visual. Podemos notar que em um gráfico de barras o foco é maior nas categorias, além de ser uma forma mais fluida de ler textos que possam ser extensos demais para um gráfico de coluna."
      ]
    },
    {
      "cell_type": "markdown",
      "metadata": {
        "id": "-QXfYPiV0rt6"
      },
      "source": [
        "### **3º Questionamento:** Como foram as vendas ao longo dos meses em 2023?"
      ]
    },
    {
      "cell_type": "markdown",
      "metadata": {
        "id": "5gdq2Vmu0rt6"
      },
      "source": [
        "**Observação:** É importante especificar como a sua variável tempo está especificada dentro da base para o ChatGPT alcançar resultados melhores na sugestão do visual"
      ]
    },
    {
      "cell_type": "markdown",
      "metadata": {
        "id": "l5Jc2Mgj0rt7"
      },
      "source": [
        "> #### <strong><font color=\"7b71ff\" size =6>Prompt:</font></strong>\n",
        "\n",
        "Temos um DataFrame chamado \"df\" e queremos construir um visual de gráfico de linha que apresente as vendas totais mensais da Zoop.\n",
        "\n",
        "Em \"df\", temos as colunas:\n",
        "* data: com as datas das compras no formato datetime (`aaaa-mm-dd`)\n",
        "* faturamento: dado pelo produto entre o preço unitário e a quantidade somadas ao frete de cada venda.\n",
        "\n",
        "Desejamos criar uma visualização que apresente as vendas por mês. Prmeiro, agrupe os dados por mês e depois crie uma nova coluna chamada \"mes\" que receba o nome de cada mês, traduzindo os meses do índice por meio do dicionário abaixo. Utilize a coluna \"data\" para o agrupamento dos dados e construção do gráfico. A coluna \"mes\" só deve ser utilizada para alterar os rótulos do eixo x.\n",
        "\n",
        "```\n",
        "meses = {\n",
        "    'January': 'Jan',\n",
        "    'February': 'Fev',\n",
        "    'March': 'Mar',\n",
        "    'April': 'Abr',\n",
        "    'May': 'Mai',\n",
        "    'June': 'Jun',\n",
        "    'July': 'Jul',\n",
        "    'August': 'Ago',\n",
        "    'September': 'Set',\n",
        "    'October': 'Out',\n",
        "    'November': 'Nov',\n",
        "    'December': 'Dez'\n",
        "}\n",
        "```\n",
        "\n",
        "Utilize as bibliotecas de visualização de dados do Python para criar essa visualização."
      ]
    },
    {
      "cell_type": "code",
      "execution_count": 27,
      "metadata": {
        "colab": {
          "base_uri": "https://localhost:8080/",
          "height": 573
        },
        "id": "MJuII43ycuS-",
        "outputId": "8c6da082-552d-4eb9-efe0-7b1ed0873fec"
      },
      "outputs": [
        {
          "data": {
            "image/png": "[encoded data removed]",
            "text/plain": [
              "<Figure size 1200x600 with 1 Axes>"
            ]
          },
          "metadata": {},
          "output_type": "display_data"
        }
      ],
      "source": [
        "import pandas as pd\n",
        "import matplotlib.pyplot as plt\n",
        "\n",
        "# Supondo que você tenha o DataFrame \"df\" carregado\n",
        "\n",
        "# Dicionário de tradução de meses\n",
        "meses = {\n",
        "    'January': 'Jan',\n",
        "    'February': 'Fev',\n",
        "    'March': 'Mar',\n",
        "    'April': 'Abr',\n",
        "    'May': 'Mai',\n",
        "    'June': 'Jun',\n",
        "    'July': 'Jul',\n",
        "    'August': 'Ago',\n",
        "    'September': 'Set',\n",
        "    'October': 'Out',\n",
        "    'November': 'Nov',\n",
        "    'December': 'Dez'\n",
        "}\n",
        "\n",
        "# Agrupar por mês e calcular as vendas totais\n",
        "df['mes'] = df['data'].dt.strftime('%B')\n",
        "vendas_mensais = df.groupby('mes')['faturamento'].sum().reindex(meses.keys())\n",
        "\n",
        "# Configurações do gráfico\n",
        "plt.figure(figsize=(12, 6))\n",
        "plt.plot(vendas_mensais.index, vendas_mensais, marker='o', color='#1890FF', linewidth=2)\n",
        "\n",
        "# Adicionar rótulos e título\n",
        "plt.title('Vendas Totais Mensais da Zoop', fontsize=18, color='#555555')\n",
        "plt.xlabel('Mês', fontsize=12, color='#1890FF')\n",
        "plt.ylabel('Vendas', fontsize=12, color='#1890FF')\n",
        "\n",
        "# Alterar rótulos do eixo x utilizando o dicionário de tradução\n",
        "plt.xticks(vendas_mensais.index, [meses[mes] for mes in vendas_mensais.index], fontsize=10, color='#1890FF')\n",
        "\n",
        "# Exibir o gráfico\n",
        "plt.show()\n"
      ]
    },
    {
      "cell_type": "markdown",
      "metadata": {
        "id": "lMPpFfGX9drW"
      },
      "source": [
        "<font color=\"7b71ff\" size=4> Comentários: </font>\n",
        "\n",
        "---\n",
        "\n",
        "Quando possuimos uma quantidade de períodos maior para os nossos dados, vale a pena recorrer a gráficos de linha(s) que é ideal para séries temporais. Como nossos dados são mensais, utilizar um gráfico de colunas, por exemplo, reduziria a percepção de uma sequência dos dados. Linhas dão uma maior sensação de continuidade.\n",
        "\n",
        "Sinta-se livre para elaborar algumas hipóteses dos momentos de alta e baixa das compras."
      ]
    },
    {
      "cell_type": "markdown",
      "metadata": {
        "id": "1xC_kr_4DplO"
      },
      "source": [
        "## **2.3 - Compondo dados dinâmicos**\n",
        "\n",
        "---\n",
        "\n"
      ]
    },
    {
      "cell_type": "markdown",
      "metadata": {
        "id": "_t7hIvWfDplO"
      },
      "source": [
        "Construimos alguns visuais interessantes para comparação dos dados, trazendo os faturamentos da Zoop. Agora, vamos partir para um nova categoria de visuais: composição.\n",
        "\n",
        "Vamos uma composição dinâmica dos dados. Para isso, vamos adicionar mais variáveis à análise, trazendo 3 diferentes variáveis sendo uma delas categórica."
      ]
    },
    {
      "cell_type": "markdown",
      "metadata": {
        "id": "EgqBvYxoDjgZ"
      },
      "source": [
        "### **4º Questionamento:** Como esta dividida a venda por trimestre por método de pagamento? Existe um período em que algum tipo de pagamento se sobressai?"
      ]
    },
    {
      "cell_type": "markdown",
      "metadata": {
        "id": "A9t1vDVWDjgf"
      },
      "source": [
        "> #### <strong><font color=\"7b71ff\" size =6>Prompt:</font></strong>\n",
        "\n",
        "Temos um DataFrame chamado \"df\" e queremos construir um visual de gráfico de barras empilhadas que apresente as vendas por trimestre em relação ao método de pagamento da Zoop.\n",
        "\n",
        "Em \"df\", temos as colunas:\n",
        "* data: com as datas das compras no formato datetime (`aaaa-mm-dd`)\n",
        "* faturamento: com os valores das vendas\n",
        "* metodo_pagamento: com o método de pagamento escolhido na compra\n",
        "\n",
        "Desejamos criar uma visualização que apresente as vendas por trimestre, agrupando os métodos de pagamento de cada trimestre correspondente a cada compra.\n",
        "\n",
        "Utilize as bibliotecas de visualização de dados do Python para criar essa visualização."
      ]
    },
    {
      "cell_type": "code",
      "execution_count": 28,
      "metadata": {
        "colab": {
          "base_uri": "https://localhost:8080/",
          "height": 759
        },
        "id": "tillkUQWDjgf",
        "outputId": "eed9a46b-22f5-4d5d-c69f-fa9c5f17bd57"
      },
      "outputs": [
        {
          "data": {
            "image/png": "[encoded data removed]",
            "text/plain": [
              "<Figure size 1200x800 with 1 Axes>"
            ]
          },
          "metadata": {},
          "output_type": "display_data"
        }
      ],
      "source": [
        "import pandas as pd\n",
        "import matplotlib.pyplot as plt\n",
        "\n",
        "# Supondo que você tenha o DataFrame \"df\" carregado\n",
        "\n",
        "# Converter a coluna 'data' para o formato datetime, se ainda não estiver\n",
        "df['data'] = pd.to_datetime(df['data'])\n",
        "\n",
        "# Criar uma nova coluna para identificar o trimestre\n",
        "df['trimestre'] = df['data'].dt.to_period('Q')\n",
        "\n",
        "# Agrupar por trimestre e método de pagamento, somando o faturamento\n",
        "vendas_por_trimestre = df.groupby(['trimestre', 'metodo_pagamento'])['faturamento'].sum().unstack()\n",
        "\n",
        "# Visualização em gráfico de barras empilhadas\n",
        "vendas_por_trimestre.plot(kind='bar', stacked=True, figsize=(12, 8), colormap='viridis')\n",
        "plt.title('Vendas por Trimestre e Método de Pagamento')\n",
        "plt.xlabel('Trimestre')\n",
        "plt.ylabel('Vendas')\n",
        "plt.legend(title='Método de Pagamento')\n",
        "\n",
        "plt.show()\n"
      ]
    },
    {
      "cell_type": "markdown",
      "metadata": {
        "id": "F1FkpO_qDjgg"
      },
      "source": [
        "<font color=\"7b71ff\" size=4> Comentários: </font>\n",
        "\n",
        "---\n",
        "\n",
        "O gráfico de colunas empilhadas adiciona à comparação entre períodos ou categorias a comparação também entre os dados de cada período/categoria. É como se colocássemos uma \"lupa\" em cada coluna e vizualizássemos a composição de cada uma delas de acordo com a variável desejada (aqui, as formas de pagamento).\n",
        "\n",
        "Sinta-se livre para elaborar algumas hipóteses das vendas pelo trimestre combinados ao tipo de pagamento e quais insights podemos retirar dessa base."
      ]
    },
    {
      "cell_type": "markdown",
      "metadata": {
        "id": "1Jouz5asJH-t"
      },
      "source": [
        "# **Aula 3 - Gerando mais visuais**\n",
        "\n",
        "\n"
      ]
    },
    {
      "cell_type": "markdown",
      "metadata": {},
      "source": [
        "Agora, vamos nos concentrar nos questionamentos voltados ao perfil dos(as) clientes, como avaliam as compras dentro da Zoop e se participam de nosso programa de cashback."
      ]
    },
    {
      "cell_type": "markdown",
      "metadata": {},
      "source": [
        "## **3.1 - Compondo dados estáticos**\n",
        "\n",
        "---\n",
        "\n"
      ]
    },
    {
      "cell_type": "markdown",
      "metadata": {},
      "source": [
        "Vamos inicialmente trazer um exemplo de como podemos utilizar a comparação de dados estáticos, ou seja, um recorte do tempo ou das variáveis que possuímos."
      ]
    },
    {
      "cell_type": "markdown",
      "metadata": {},
      "source": [
        "### **5º Questionamento:** Qual a proporção da clientela que participa de nosso programa de cashback?"
      ]
    },
    {
      "cell_type": "markdown",
      "metadata": {},
      "source": [
        "> #### <strong><font color=\"7b71ff\" size =6>Prompt:</font></strong>\n",
        "\n",
        "Temos um DataFrame chamado \"df\" e queremos construir um visual que apresente a proporção dos(as) usuários(as) que estão aderindo o programa de cashback da Zoop.\n",
        "\n",
        "Em \"df\", temos a coluna \"cashback\" que dispõe de tais dados.\n",
        "\n",
        "Utilize as bibliotecas de visualização de dados do Python para criar essa visualização."
      ]
    },
    {
      "cell_type": "code",
      "execution_count": 29,
      "metadata": {},
      "outputs": [
        {
          "data": {
            "image/png": "[encoded data removed]",
            "text/plain": [
              "<Figure size 600x600 with 1 Axes>"
            ]
          },
          "metadata": {},
          "output_type": "display_data"
        }
      ],
      "source": [
        "import pandas as pd\n",
        "import matplotlib.pyplot as plt\n",
        "\n",
        "# Supondo que você tenha o DataFrame \"df\" carregado\n",
        "\n",
        "# Calcular a proporção de adesão ao cashback\n",
        "proporcao_cashback = df['cashback'].value_counts(normalize=True)\n",
        "\n",
        "# Visualização\n",
        "plt.figure(figsize=(6, 6))\n",
        "plt.pie(proporcao_cashback, labels=proporcao_cashback.index, autopct='%1.1f%%', colors=['skyblue', 'lightcoral'])\n",
        "plt.title('Proporção de Usuários Aderindo ao Cashback')\n",
        "plt.show()"
      ]
    },
    {
      "cell_type": "markdown",
      "metadata": {},
      "source": [
        "> #### <strong><font color=\"7b71ff\" size =6>Prompt:</font></strong>\n",
        "\n",
        "Você conseguiria inverter as cores e alterar o gráfico anterior para um do tipo rosca?\n",
        "\n",
        "Utilize as bibliotecas de visualização de dados do Python para criar essa visualização."
      ]
    },
    {
      "cell_type": "code",
      "execution_count": 30,
      "metadata": {},
      "outputs": [
        {
          "data": {
            "image/png": "[encoded data removed]",
            "text/plain": [
              "<Figure size 600x600 with 1 Axes>"
            ]
          },
          "metadata": {},
          "output_type": "display_data"
        }
      ],
      "source": [
        "import pandas as pd\n",
        "import matplotlib.pyplot as plt\n",
        "\n",
        "# Supondo que você tenha o DataFrame \"df\" carregado\n",
        "\n",
        "# Calcular a proporção de adesão ao cashback\n",
        "proporcao_cashback = df['cashback'].value_counts(normalize=True)\n",
        "\n",
        "# Cores invertidas\n",
        "cores_invertidas = ['lightcoral', 'skyblue']\n",
        "\n",
        "# Visualização em gráfico de rosca (donut)\n",
        "plt.figure(figsize=(6, 6))\n",
        "plt.pie(proporcao_cashback, labels=proporcao_cashback.index, autopct='%1.1f%%', startangle=90, colors=cores_invertidas, wedgeprops=dict(width=0.6))\n",
        "plt.title('Proporção de Usuários Aderindo ao Cashback')\n",
        "plt.show()"
      ]
    },
    {
      "cell_type": "markdown",
      "metadata": {},
      "source": [
        "<font color=\"7b71ff\" size=4> Comentários: </font>\n",
        "\n",
        "---\n",
        "\n",
        "Olha só! Mais uma vez a IA nos apresentou uma boa noção de qual gráfico aplicar para esse ponto, mas você conseguiu notar que \"ela\" não faz ideia dos dados que possuímos?\n",
        "\n",
        "Precisamos estar atentos(as) a isso, pois passamos apenas os nomes das colunas e que dados existiam lá. Ela não consegue saber o que é um valor de caráter positivo ou negativo, por exemplo. Por isso, o \"não\" estava em azul e o \"sim\" em vermelho.  No prompt seguinte, demos uma orientação para inverter as cores (ainda sem falar o real valor dos dados) e pedimos uma alteração do visual.\n",
        "\n",
        "Que tal você experimentar fazer outros pedidos e ver como o ChatGPT se comporta?\n",
        "\n",
        "Falando do gráfico, gráficos de setores são ideiais para poucas categorias de dados, se possível dados dicotômicos (2 categorias, como sim e não, gato e cachorro...). Eles representam a proporção dos dados de maneira estática."
      ]
    },
    {
      "cell_type": "markdown",
      "metadata": {
        "id": "AOknnopkJH-0"
      },
      "source": [
        "## **3.2 - Distribuindo dados**\n",
        "\n",
        "---\n",
        "\n"
      ]
    },
    {
      "cell_type": "markdown",
      "metadata": {
        "id": "7KcbesicnFNR"
      },
      "source": [
        "Com o auxílio da IA, vamos gerar mais alguns gráficos que serão importantes na construção do storytelling do relatório da Zoop como requisitado. Partindo agora, da distribuição de dados, vamos analisar o perfil dos clientes e como eles avaliam as compras na Zoop"
      ]
    },
    {
      "cell_type": "markdown",
      "metadata": {
        "id": "GdlPs9Q1nFNX"
      },
      "source": [
        "### **6º Questionamento:** Como estão distribuidas as avaliações de produto? Temos bons números gerais?"
      ]
    },
    {
      "cell_type": "markdown",
      "metadata": {
        "id": "Uisw4KsMnFNX"
      },
      "source": [
        "Vamos pedir ao ChatGPT para nos auxiliar na construção desse visual. Vamos ver se esta IA consegue representar tais dados com um visual adequado."
      ]
    },
    {
      "cell_type": "markdown",
      "metadata": {
        "id": "iawiCFgxnFNX"
      },
      "source": [
        "> #### <strong><font color=\"7b71ff\" size =6>Prompt:</font></strong>\n",
        "\n",
        "Temos um DataFrame chamado \"df\" e queremos construir um visual que apresente a distribuição das avaliações do público em relação as compras feitas na loja online.\n",
        "\n",
        "Em \"df\", temos a coluna \"avaliacao_compra\" com as notas dadas por cada usuário em relação a compra que fizeram que variam de 0 a 10 em números inteiros.\n",
        "\n",
        "Desejamos criar uma visualização que apresente a distribuição desses dados.\n",
        "\n",
        "Utilize as bibliotecas de visualização de dados do Python para criar essa visualização."
      ]
    },
    {
      "cell_type": "code",
      "execution_count": 31,
      "metadata": {
        "colab": {
          "base_uri": "https://localhost:8080/",
          "height": 564
        },
        "id": "oQDfplfyoY-1",
        "outputId": "6ec27a76-37d2-4edc-8112-ce6dc841d96c"
      },
      "outputs": [
        {
          "data": {
            "image/png": "[encoded data removed]",
            "text/plain": [
              "<Figure size 1000x600 with 1 Axes>"
            ]
          },
          "metadata": {},
          "output_type": "display_data"
        }
      ],
      "source": [
        "import pandas as pd\n",
        "import matplotlib.pyplot as plt\n",
        "\n",
        "# Supondo que você tenha o DataFrame \"df\" carregado\n",
        "\n",
        "# Visualização em histograma\n",
        "plt.figure(figsize=(10, 6))\n",
        "plt.hist(df['avaliacao_compra'], bins=11, edgecolor='black', color='skyblue')\n",
        "plt.title('Distribuição das Avaliações de Compra')\n",
        "plt.xlabel('Avaliação')\n",
        "plt.ylabel('Frequência')\n",
        "plt.grid(axis='y', linestyle='--', alpha=0.7)\n",
        "\n",
        "plt.show()"
      ]
    },
    {
      "cell_type": "markdown",
      "metadata": {
        "id": "GvhBqdHMnFNX"
      },
      "source": [
        "<font color=\"7b71ff\" size=4> Comentários: </font>\n",
        "\n",
        "---\n",
        "\n",
        "Mais uma vez não precisamos especificar diretamente o tipo de gráfico, pois ao citar distribuição de valores numéricos de uma simples coluna o ChatGPT conseguiu interpretar e trazer o código para um histograma de coluna. Este gráfico é ideal para apresentar a distribuição de uma amostra de dados ou população. Cada coluna aqui representa a frequência de repetição de um valor.\n",
        "\n",
        "Quer experimentar fazendo o mesmo apenas com as idades?"
      ]
    },
    {
      "cell_type": "markdown",
      "metadata": {
        "id": "BTLhJSN8viLL"
      },
      "source": [
        "## **3.3 - Distribuindo por característica**\n",
        "\n",
        "---\n",
        "\n"
      ]
    },
    {
      "cell_type": "markdown",
      "metadata": {
        "id": "cl7SklxjviLR"
      },
      "source": [
        "Vamos agora para a criação do nosso último visual. Subindo mais um degrau na distribuição de dados, iremos adcionar uma variável categórica ao problema. Vamos ver como a IA se comporta aqui?"
      ]
    },
    {
      "cell_type": "markdown",
      "metadata": {
        "id": "imwVB9h2viLR"
      },
      "source": [
        "### **7º Questionamento:** Como está distribuído o nosso público por idade e sexo biológico? Existe um grupo que sobressai?"
      ]
    },
    {
      "cell_type": "markdown",
      "metadata": {
        "id": "gfO3B6GaviLS"
      },
      "source": [
        "> #### <strong><font color=\"7b71ff\" size =6>Prompt:</font></strong>\n",
        "\n",
        "Temos um DataFrame chamado \"df\" e queremos construir um visual que apresente a distribuição do nosso público por idade e sexo biológico.\n",
        "\n",
        "Em \"df\", temos as colunas:\n",
        "* idade: idade da pessoa que realizou a compra\n",
        "* sexo_biologico: sexo biológico da pessoa que realizou a compra, com dados categóricos\n",
        "\n",
        "Desejamos criar uma visualização que apresente a distribuição desses dados.\n",
        "\n",
        "Utilize as bibliotecas de visualização de dados do Python para criar essa visualização."
      ]
    },
    {
      "cell_type": "code",
      "execution_count": 32,
      "metadata": {
        "colab": {
          "base_uri": "https://localhost:8080/",
          "height": 736
        },
        "id": "VXHMo433viLS",
        "outputId": "dfc1878e-4075-4556-e973-1dc5424a7f7d"
      },
      "outputs": [
        {
          "name": "stderr",
          "output_type": "stream",
          "text": [
            "No artists with labels found to put in legend.  Note that artists whose label start with an underscore are ignored when legend() is called with no argument.\n"
          ]
        },
        {
          "data": {
            "image/png": "[encoded data removed]",
            "text/plain": [
              "<Figure size 1200x800 with 1 Axes>"
            ]
          },
          "metadata": {},
          "output_type": "display_data"
        }
      ],
      "source": [
        "import pandas as pd\n",
        "import matplotlib.pyplot as plt\n",
        "import seaborn as sns\n",
        "\n",
        "# Supondo que você tenha o DataFrame \"df\" carregado\n",
        "\n",
        "# Visualização em gráfico de barras empilhadas\n",
        "plt.figure(figsize=(12, 8))\n",
        "sns.histplot(data=df, x='idade', hue='sexo_biologico', multiple='stack', bins=20, palette='Set2')\n",
        "plt.title('Distribuição do Público por Idade e Sexo Biológico')\n",
        "plt.xlabel('Idade')\n",
        "plt.ylabel('Contagem')\n",
        "plt.legend(title='Sexo Biológico')\n",
        "\n",
        "plt.show()"
      ]
    },
    {
      "cell_type": "markdown",
      "metadata": {
        "id": "VYHpdVaxxKpe"
      },
      "source": [
        "O gráfico gerado é pouco prático, pois compila os dados do sexo biológico \"Masculino\" e \"Feminino\" em uma mesma barra! Precisamos trazer mais uma instrução ao GPT para escolher um visual mais adequado."
      ]
    },
    {
      "cell_type": "markdown",
      "metadata": {
        "id": "3PXPAQSyx9d5"
      },
      "source": [
        "> #### <strong><font color=\"7b71ff\" size =6>Prompt:</font></strong>\n",
        "\n",
        "Acho que podemos melhorar esse gráfico. Que tal mudar para um boxplot?"
      ]
    },
    {
      "cell_type": "code",
      "execution_count": 33,
      "metadata": {
        "colab": {
          "base_uri": "https://localhost:8080/",
          "height": 806
        },
        "id": "ND49acqgx62J",
        "outputId": "a70c1027-4c08-41f9-d808-6499d6343484"
      },
      "outputs": [
        {
          "data": {
            "image/png": "[encoded data removed]",
            "text/plain": [
              "<Figure size 1200x800 with 1 Axes>"
            ]
          },
          "metadata": {},
          "output_type": "display_data"
        }
      ],
      "source": [
        "import pandas as pd\n",
        "import matplotlib.pyplot as plt\n",
        "import seaborn as sns\n",
        "\n",
        "# Supondo que você tenha o DataFrame \"df\" carregado\n",
        "\n",
        "# Visualização em boxplot\n",
        "plt.figure(figsize=(12, 8))\n",
        "sns.boxplot(data=df, x='sexo_biologico', y='idade', palette='pastel')\n",
        "plt.title('Distribuição da Idade por Sexo Biológico')\n",
        "plt.xlabel('Sexo Biológico')\n",
        "plt.ylabel('Idade')\n",
        "\n",
        "plt.show()"
      ]
    },
    {
      "cell_type": "markdown",
      "metadata": {
        "id": "PLWEHmFAviLS"
      },
      "source": [
        "<font color=\"7b71ff\" size=4> Comentários: </font>\n",
        "\n",
        "---\n",
        "\n",
        "Dessa vez foi necessário guiar a IA a fim de gerar um visual melhor para nossas análises.\n",
        "\n",
        "O gráfico aqui representado é um boxplot (diagrama de caixa) que é ideal para representar um conjunto de dados de acordo com 5 medidas de interesse: valor máximo, mínimo, 1º quartil (onde estão situados os primeiros 25% dos dados), 2º quartil ou mediana (onde estão situados 50% dos dados) e 3º quartil (onde estão situados 75% dos dados).\n",
        "\n",
        "Lembra do `describe()`? Este gráfico apresenta em um único elemento boa parte dos dados que a função exibe em tabela.\n",
        "\n",
        "Concluímos a 1ª versão dos 7 visuais que utilizaremos em nosso projeto. Agora, vamos partir para a aplicação das técnicas de storytelling para melhorar os visuais e deixá-los com a identidade visual da Zoop antes da exportação.\n"
      ]
    },
    {
      "cell_type": "markdown",
      "metadata": {
        "id": "rIq0Bei4LwJI"
      },
      "source": [
        "# **Aula 4 - Técnicas de storytelling**\n",
        "\n",
        "\n"
      ]
    },
    {
      "cell_type": "markdown",
      "metadata": {
        "id": "xnV4qPIdLwJO"
      },
      "source": [
        "## **4.1 - Definindo as cores do projeto**\n",
        "\n",
        "---\n",
        "\n"
      ]
    },
    {
      "cell_type": "markdown",
      "metadata": {
        "id": "fEB1ZCqazT8p"
      },
      "source": [
        "Agora, vamos explorar a importância das cores na visualização de dados, discutir como as pessoas percebem e interpretam as informações visuais, e abordar a diferença entre a capacidade da inteligência artificial e a visão humana no que diz respeito à escolha de cores e acessibilidade."
      ]
    },
    {
      "cell_type": "markdown",
      "metadata": {
        "id": "1Q8z5wq3zeQ8"
      },
      "source": [
        "### Paleta de cores da Zoop:"
      ]
    },
    {
      "cell_type": "markdown",
      "metadata": {
        "id": "jTeVBA8ezqho"
      },
      "source": [
        "<img src=\"https://raw.githubusercontent.com/alura-cursos/ia-datascience-dataviz/main/imagens/paleta_cores/zoop_paleta_cores.png\" alt=\"inserir alt\" width=480>\n",
        "\n",
        "&nbsp;\n",
        "\n",
        "#### Paleta do projeto\n",
        "\n",
        "|Vermelho|||\n",
        "|------|------|------|\n",
        "| VERMELHO_1 |VERMELHO_2 |VERMELHO_3 |\n",
        "|#e23155 | #cc2c4e| #b32742 |\n",
        "| ![adicionar desc](https://raw.githubusercontent.com/alura-cursos/ia-datascience-dataviz/main/imagens/paleta_cores/VERMELHO_1.png)  |![adicionar desc](https://raw.githubusercontent.com/alura-cursos/ia-datascience-dataviz/main/imagens/paleta_cores/VERMELHO_2.png) |![adicionar desc](https://raw.githubusercontent.com/alura-cursos/ia-datascience-dataviz/main/imagens/paleta_cores/VERMELHO_3.png) |\n",
        "\n",
        "&nbsp;\n",
        "\n",
        "|Azul|||\n",
        "|------|------|------|\n",
        "| AZUL_1 |AZUL_2 |AZUL_3 |\n",
        "|#203f75 | #1c3867| #19325b |\n",
        "| ![adicionar desc](https://raw.githubusercontent.com/alura-cursos/ia-datascience-dataviz/main/imagens/paleta_cores/AZUL_1.png)  |![adicionar desc](https://raw.githubusercontent.com/alura-cursos/ia-datascience-dataviz/main/imagens/paleta_cores/AZUL_2.png) |![adicionar desc](https://raw.githubusercontent.com/alura-cursos/ia-datascience-dataviz/main/imagens/paleta_cores/AZUL_3.png) |\n",
        "\n",
        "&nbsp;\n",
        "\n",
        "|Cinza||||||\n",
        "|------|------|------|------|------|------|\n",
        "|BRANCO| CINZA_1 |CINZA_2 |CINZA_3 |CINZA_4 |CINZA_5 |\n",
        "|#ffffff | #ebebeb | #d9d9d9| #cccccc | #555655| #231f20 |\n",
        "| ![adicionar desc](https://raw.githubusercontent.com/alura-cursos/ia-datascience-dataviz/main/imagens/paleta_cores/BRANCO.png)  |![adicionar desc](https://raw.githubusercontent.com/alura-cursos/ia-datascience-dataviz/main/imagens/paleta_cores/CINZA_1.png) |![adicionar desc](https://raw.githubusercontent.com/alura-cursos/ia-datascience-dataviz/main/imagens/paleta_cores/CINZA_2.png) |![adicionar desc](https://raw.githubusercontent.com/alura-cursos/ia-datascience-dataviz/main/imagens/paleta_cores/CINZA_3.png) |![adicionar desc](https://raw.githubusercontent.com/alura-cursos/ia-datascience-dataviz/main/imagens/paleta_cores/CINZA_4.png)|![adicionar desc](https://raw.githubusercontent.com/alura-cursos/ia-datascience-dataviz/main/imagens/paleta_cores/CINZA_5.png)|\n",
        "\n",
        "&nbsp;\n",
        "\n",
        "|Aqua|||\n",
        "|------|------|------|\n",
        "| AQUA_1 |AQUA_2 |AQUA_3 |\n",
        "|#addcd4 | #9fccc5| #96bfb9 |\n",
        "| ![adicionar desc](https://raw.githubusercontent.com/alura-cursos/ia-datascience-dataviz/main/imagens/paleta_cores/AQUA_1.png)  |![adicionar desc](https://raw.githubusercontent.com/alura-cursos/ia-datascience-dataviz/main/imagens/paleta_cores/AQUA_2.png) |![adicionar desc](https://raw.githubusercontent.com/alura-cursos/ia-datascience-dataviz/main/imagens/paleta_cores/AQUA_3.png) |\n",
        "\n",
        "&nbsp;\n"
      ]
    },
    {
      "cell_type": "code",
      "execution_count": 34,
      "metadata": {
        "id": "xIR2Iax9zQrE"
      },
      "outputs": [],
      "source": [
        "# Adicionando as cores como variáveis do projeto\n",
        "VERMELHO_1,\tVERMELHO_2,\tVERMELHO_3 = \"#e23155\",\t\"#cc2c4e\", \"#b32742\"\n",
        "AZUL_1,\tAZUL_2,\tAZUL_3 = \"#203f75\",\t\"#1c3867\", \"#19325b\"\n",
        "BRANCO,\tCINZA_1, CINZA_2, CINZA_3, CINZA_4,\tCINZA_5 = \"#ffffff\", \"#ebebeb\",\t\"#d9d9d9\", \"#cccccc\", \"#555655\", \"#231f20\"\n",
        "AQUA_1,\tAQUA_2,\tAQUA_3 = \"#addcd4\",\t\"#9fccc5\", \"#96bfb9\""
      ]
    },
    {
      "cell_type": "markdown",
      "metadata": {
        "id": "aUIpQLzBLwJO"
      },
      "source": [
        "<font size=5> ***Por que definimos nós mesmos as cores do projeto?*** </font>"
      ]
    },
    {
      "cell_type": "markdown",
      "metadata": {
        "id": "KfuUUxMBAZd1"
      },
      "source": [
        "1. **Percepção humana das cores:**\n",
        "\n",
        "Nosso cérebro interpreta as cores de maneira única, associando emoções e significados a cada tonalidade. É importante na escolha das cores para representar dados considerar a percepção humana para garantir que as informações sejam transmitidas de maneira clara e eficaz. Além de seguir a identidade visual da Zoop, ou seja, deixar aquela sensação de que aquele visual é da Zoop.\n",
        "\n",
        "2. **Acessibilidade:**\n",
        "\n",
        "Certas combinações de cores podem ser difíceis de serem percebidas por pessoas com deficiências visuais. Nossa responsabilidade como desenvolvedores é garantir que nossas visualizações sejam inclusivas. Vamos seguir aqui algumas diretrizes e recomendações para criar gráficos acessíveis.\n",
        "\n",
        "3. **IA vs. escolha de cores:**\n",
        "\n",
        "Enquanto a IA pode realizar tarefas complexas, como análise de dados e reconhecimento de padrões, ela ainda não possui o discernimento humano quando se trata de escolher cores significativas e garantir a acessibilidade. É aqui que nossa intervenção criativa e consideração humana entram em cena.\n",
        "\n",
        "4. **Experiência visual:**\n",
        "\n",
        "As pessoas conseguem entender as informações transmitidas pelos gráficos? Existe alguma \"briga\" entre as cores que prejudica a clareza da mensagem? Vamos explorar técnicas para melhorar a experiência visual, como contraste adequado, pela escolha cuidadosa das cores da paleta e destaque de elementos-chave.\n",
        "\n",
        "Vamos agora mergulhar na prática e incorporar esses conceitos ao nosso projeto?"
      ]
    },
    {
      "cell_type": "markdown",
      "metadata": {
        "id": "h63EBWSmCfZh"
      },
      "source": [
        "## **4.2 - Adicionando rótulos e labels**\n",
        "\n",
        "---\n",
        "\n"
      ]
    },
    {
      "cell_type": "markdown",
      "metadata": {
        "id": "oybAqptpCfZn"
      },
      "source": [
        "Já criamos anteriormente os 7 visuais e definimos as cores do projeto. Agora, vamos escolher apenas um dos visuais para compreender como podemos utilizar a IA para adicionar as cores ideais, os rótulos dos dados, títulos e labels dos eixos.\n",
        "\n",
        "Vamos então pegar o código daquele primeiro gráfico (**Métodos de pagamento utilizados**) e explorar essas alterações por meio da utilização da IA"
      ]
    },
    {
      "cell_type": "code",
      "execution_count": null,
      "metadata": {
        "colab": {
          "base_uri": "https://localhost:8080/",
          "height": 648
        },
        "id": "DW7XluZYCRMG",
        "outputId": "75df9623-fffc-4a53-f293-928a1c234845"
      },
      "outputs": [],
      "source": [
        "# Visualização\n",
        "plt.figure(figsize=(10, 6))\n",
        "plt.bar(metodos_de_pagamento['Metodo de Pagamento'], metodos_de_pagamento['Quantidade'], color='skyblue')\n",
        "plt.title('Quantidade de Métodos de Pagamento Utilizados')\n",
        "plt.xlabel('Método de Pagamento')\n",
        "plt.ylabel('Quantidade')\n",
        "plt.xticks(rotation=45, ha='right')\n",
        "\n",
        "# Exibir o gráfico\n",
        "plt.show()"
      ]
    },
    {
      "cell_type": "markdown",
      "metadata": {
        "id": "E0VtIFNUDpUz"
      },
      "source": [
        "> #### <strong><font color=\"7b71ff\" size =6>Prompt:</font></strong>\n",
        "\n",
        "Agora chegou a hora de refinarmos as nossas visualizações. Vamos começar com o 1º gráfico que fizemos, aquele com os métodos de pagamento?\n",
        "\n",
        "O nosso gráfico precisa seguir a identidade visual da Zoop, com o fundo da figura e do plot na cor CINZA_1, as colunas na cor VERMELHO_1 e o tamanho da figura deve ser de (10, 6).\n",
        "\n",
        "O título da figura é \"Métodos de pagamentos mais utilizados em 2023\" com tamanho 18 e sua cor CINZA_5.\n",
        "\n",
        "Os rótulos do eixo y (yticks) devem ser suprimidos assim como o label do eixo y (ylabel) e os rótulos e label do eixo X (xticks e xlabel) devem ter tamanho 12 com a cor AZUL_1. As bordas do topo, lado direito e esquerdo do gráfico devem ser suprimidas.\n",
        "\n",
        "Além disso, é necessário exibir o total de cada método de pagamento acima de cada coluna, com o texto também na cor AZUL_1 e tamanho 12.\n",
        "\n",
        "Utilize as bibliotecas de visualização de dados do Python para criar essa visualização. Lembre-se que as variáveis das cores que estamos utilizando possui valores de cores já em hexadecimal."
      ]
    },
    {
      "cell_type": "code",
      "execution_count": null,
      "metadata": {
        "colab": {
          "base_uri": "https://localhost:8080/",
          "height": 579
        },
        "id": "TIVoMXLtDp45",
        "outputId": "fe0c158e-b666-4897-a61b-375f730472bf"
      },
      "outputs": [],
      "source": []
    },
    {
      "cell_type": "markdown",
      "metadata": {
        "id": "ld39rcRW0z6x"
      },
      "source": [
        "<font color=\"7b71ff\" size=4> Comentários: </font>\n",
        "\n",
        "---\n",
        "\n",
        "Uau! Parece outro gráfico não é mesmo?\n",
        "\n",
        "Retiramos muitos elementos distratores e adicionamos apenas a informação que nos interessava. Além disso mudamos o visual de um estado genérico para um formato que casa com a identidade da Zoop, deixando nosso gráfico pronto para ser utilizado, por exemplo, no relatório das vendas.\n",
        "\n",
        "Mais a frente traremos essas ações para os outros visuais. O nosso foco aqui é entender as técnicas de storytelling e como aliar elas a IA pode ser bastante útil."
      ]
    },
    {
      "cell_type": "markdown",
      "metadata": {
        "id": "9cEUeRY32DUo"
      },
      "source": [
        "## **4.3 - Adicionando textos**\n",
        "\n",
        "---\n",
        "\n"
      ]
    },
    {
      "cell_type": "markdown",
      "metadata": {
        "id": "-G1aXs6B2DUu"
      },
      "source": [
        "Já refinamos um dos gráficos na etapa anterior. Agora, vamos trazer esse gráfico, adicionando mais um elemento que pode ser importante às análises: textos informativos. Vamos utilizar a IA novamente para esse processo."
      ]
    },
    {
      "cell_type": "markdown",
      "metadata": {
        "id": "ohPG1vbN2DUv"
      },
      "source": [
        "> #### <strong><font color=\"7b71ff\" size =6>Prompt:</font></strong>\n",
        "\n",
        "O gráfico ficou muito bom!\n",
        "\n",
        "Agora quero adicionar um texto dentro da área do plot, vamos lá?\n",
        "\n",
        "Para isso, some os valores das duas primeiras colunas, divida pela soma de totas as colunas e passe para o formato de porcentagem armazenando na variável \"percentual\"\n",
        "\n",
        "Agora, na posição x = 2 e y = 2500, adicione o seguinte texto com tamanho 10 e cor AZUL_3: `f\"$\\\\bf{percentual:.2f}$% dos clientes utilizam Cartão de Crédito ou PIX \\npara pagamento. Seria interessante recorrer a parcerias\\ncom bancos para a construção de um Zoop Pay a fim\\nde fidelizar a nossa clientela.\"`."
      ]
    },
    {
      "cell_type": "code",
      "execution_count": null,
      "metadata": {
        "colab": {
          "base_uri": "https://localhost:8080/",
          "height": 579
        },
        "id": "WBLUZ-yN2DUv",
        "outputId": "e3c0f578-9b97-4229-e975-29d217c94cbd"
      },
      "outputs": [],
      "source": []
    },
    {
      "cell_type": "markdown",
      "metadata": {
        "id": "8xR2-ILe2DUv"
      },
      "source": [
        "<font color=\"7b71ff\" size=4> Comentários: </font>\n",
        "\n",
        "---\n",
        "\n",
        "Aproveitamos a área útil para trazer um *insight* que tivemos ao descrever os dados dos métodos de pagamento. Isso já aumenta e muito a relevância do dado representado e fornece mais informação a quem lê."
      ]
    },
    {
      "cell_type": "markdown",
      "metadata": {
        "id": "ytMUOrsXQyPd"
      },
      "source": [
        "## **4.4 - Adicionando elementos visuais**\n",
        "\n",
        "---\n",
        "\n"
      ]
    },
    {
      "cell_type": "markdown",
      "metadata": {
        "id": "sUQePbur7ooK"
      },
      "source": [
        "Bem bacana o uso dos textos informativos, não é mesmo? E se agora nós adicionarmos outros elementos visuais a um de nossos gráficos?\n",
        "\n",
        "Vamos escolher agora o gráfico de linha (**Vendas totais mensais da Zoop**) e aplicar mais uma técnica a ele por meio da utilização da IA ."
      ]
    },
    {
      "cell_type": "code",
      "execution_count": null,
      "metadata": {
        "colab": {
          "base_uri": "https://localhost:8080/",
          "height": 573
        },
        "id": "Arm2mlwA9Cua",
        "outputId": "57228a61-41cd-4f78-93a7-373780c32362"
      },
      "outputs": [],
      "source": [
        "import pandas as pd\n",
        "import matplotlib.pyplot as plt\n",
        "\n",
        "# Dicionário de tradução de meses\n",
        "meses = {\n",
        "    'January': 'Jan',\n",
        "    'February': 'Fev',\n",
        "    'March': 'Mar',\n",
        "    'April': 'Abr',\n",
        "    'May': 'Mai',\n",
        "    'June': 'Jun',\n",
        "    'July': 'Jul',\n",
        "    'August': 'Ago',\n",
        "    'September': 'Set',\n",
        "    'October': 'Out',\n",
        "    'November': 'Nov',\n",
        "    'December': 'Dez'\n",
        "}\n",
        "\n",
        "# Agrupar por mês e calcular as vendas totais\n",
        "df['mes'] = df['data'].dt.strftime('%B')\n",
        "vendas_mensais = df.groupby('mes')['faturamento'].sum().reindex(meses.keys())\n",
        "\n",
        "# Configurações do gráfico\n",
        "plt.figure(figsize=(12, 6))\n",
        "plt.plot(vendas_mensais.index, vendas_mensais, marker='o', color='#1890FF', linewidth=2)\n",
        "\n",
        "# Adicionar rótulos e título\n",
        "plt.title('Vendas Totais Mensais da Zoop', fontsize=18, color='#555555')\n",
        "plt.xlabel('Mês', fontsize=12, color='#1890FF')\n",
        "plt.ylabel('Vendas', fontsize=12, color='#1890FF')\n",
        "\n",
        "# Alterar rótulos do eixo x utilizando o dicionário de tradução\n",
        "plt.xticks(vendas_mensais.index, [meses[mes] for mes in vendas_mensais.index], fontsize=10, color='#1890FF')\n",
        "\n",
        "plt.show()"
      ]
    },
    {
      "cell_type": "markdown",
      "metadata": {
        "id": "SQEdqrlH7ooK"
      },
      "source": [
        "> #### <strong><font color=\"7b71ff\" size =6>Prompt:</font></strong>\n",
        "\n",
        "Vamos explorar mais um dos gráficos que fizemos? Agora vamos utilizar aquele com as Vendas totais mensais da Zoop. A variável que passa os valores mensais é:\n",
        "\n",
        "```\n",
        "df['mes'] = df['data'].dt.strftime('%B')\n",
        "vendas_mensais = df.groupby('mes')['faturamento'].sum().reindex(meses.keys())\n",
        "```\n",
        "\n",
        "Em que `df[\"data\"]` correspondente as datas no formato datetime e `df['faturamento']` os valores das vendas.\n",
        "\n",
        "E o que gerou o gráfico original foi\n",
        "\n",
        "```\n",
        "plt.plot(vendas_mensais.index, vendas_mensais, marker='o', color='#1890FF', linewidth=2)\n",
        "```\n",
        "\n",
        "O nosso gráfico precisa seguir a identidade visual da Zoop, com o fundo da figura e do plot na cor CINZA_1, a linha na cor AZUL_1 e o tamanho da figura deve ser de (12, 6).\n",
        "\n",
        "O título da figura é \"Vendas totais mensais em 2023\" com tamanho 18 e sua cor CINZA_5.\n",
        "\n",
        "Os rótulos do eixo y (yticks) devem estar o formato \"R$ valor M\" com duas casas decimais, tamanho 12 e cor AZUL_1.\n",
        "\n",
        "Os rótulos do eixo X (xticks) devem ter tamanho 12 com a cor AZUL_1. Já os labels do eixo x e y (xlabel e ylabel) devem ser suprimidos. As bordas do topo e lado direito do gráfico devem ser suprimidas.\n",
        "\n",
        "Utilize as bibliotecas de visualização de dados do Python para criar essa visualização. Lembre-se que as variáveis das cores que estamos utilizando possui valores de cores já em hexadecimal."
      ]
    },
    {
      "cell_type": "code",
      "execution_count": null,
      "metadata": {
        "colab": {
          "base_uri": "https://localhost:8080/",
          "height": 554
        },
        "id": "1YTZrVqZZdJl",
        "outputId": "411dbc19-5604-4ecc-8a91-6295664160f6"
      },
      "outputs": [],
      "source": []
    },
    {
      "cell_type": "markdown",
      "metadata": {
        "id": "D5lwGHtjR9ew"
      },
      "source": [
        "> #### <strong><font color=\"7b71ff\" size =6>Prompt:</font></strong>\n",
        "\n",
        "Bacana! Agora que o nosso gráfico já está com a identidade visual, vamos adicionar alguns elementos visuais.\n",
        "\n",
        "Desenhe 4 círculos de raio 200, transparentes com a borda na cor VERMELHO_1 e  com o centro nas coordenadas do 5º, 8º, 11º e 12º  pontos, respectivamente. No lado esquerdo de cada círculo enumere de 1 a 4."
      ]
    },
    {
      "cell_type": "code",
      "execution_count": null,
      "metadata": {
        "colab": {
          "base_uri": "https://localhost:8080/",
          "height": 554
        },
        "id": "-rv-B3HUnI6P",
        "outputId": "34cc9ddd-d1c0-4c5a-ffc0-ce064149b9bf"
      },
      "outputs": [],
      "source": []
    },
    {
      "cell_type": "markdown",
      "metadata": {
        "id": "BtvmW0Ho7ooL"
      },
      "source": [
        "<font color=\"7b71ff\" size=4> Comentários: </font>\n",
        "\n",
        "---\n",
        "\n",
        "Adicionamos 4 círculos representando os pontos com maior volume de vendas da Zoop em 2023. Podemos pensar em algumas hipóteses:\n",
        "\n",
        "\n",
        "1.   No mês de Maio, temos uma das datas mais relevantes em vendas: Dia das mães; o que pode justificar o aumento das vendas da Zoop\n",
        "1.   No mês de Agosto, temos 2 situações que podem justificar, a volta às aulas no 2º semestre em alguns estados brasileiros e o Dia dos Pais.\n",
        "3.   No mês de Novembro, fica o destaque a Black Friday um dos principais períodos de alta das vendas, considerado de grande relevância ao Varejo.\n",
        "4.   No mês de Dezembro, temos o Natal e as festividades de Ano Novo. considerados, não só na Zoop, o período de maior vendas do Varejo.\n",
        "\n",
        "Fica como dica investigar mais os dados e chegar as suas próprias conclusões."
      ]
    },
    {
      "cell_type": "markdown",
      "metadata": {
        "id": "6hTO7cAkExvp"
      },
      "source": [
        "Concluímos assim 2 visuais aplicando as técnicas de storytelling, deixando-os com a identidade visual da Zoop e complementando-os com informações relevantes para a interpretação dos dados. Agora, vamos seguir ajustando os outros 5 visuais para no final partimos para a exportação dos gráficos."
      ]
    },
    {
      "cell_type": "markdown",
      "metadata": {
        "id": "Jh3UcPkNFcsb"
      },
      "source": [
        "# **Aula 5 - Concluindo o projeto**\n",
        "\n",
        "\n"
      ]
    },
    {
      "cell_type": "markdown",
      "metadata": {
        "id": "rXGy292iFcsh"
      },
      "source": [
        "## **5.1 - Ajustando os visuais de comparação**\n",
        "\n",
        "---\n",
        "\n"
      ]
    },
    {
      "cell_type": "markdown",
      "metadata": {
        "id": "oPaSihSCFcsh"
      },
      "source": [
        "Antes de ajustarmos os últimos 5 visuais de nosso projeto, vamos fazer uma pequena modificação nos 2 primeiros passando-os para função, o que facilitará mais a frente quando realizarmos a exportação dos visuais.\n",
        "\n"
      ]
    },
    {
      "cell_type": "markdown",
      "metadata": {
        "id": "EAGpzx6uFcsh"
      },
      "source": [
        "### **Gráfico 1 - Métodos de pagamentos mais utilizados em 2023:**"
      ]
    },
    {
      "cell_type": "code",
      "execution_count": 41,
      "metadata": {
        "id": "J6Q6XYMPGF6d"
      },
      "outputs": [],
      "source": [
        "def metodos_pag():\n",
        "  # Agrupar por método de pagamento e contar o total de ocorrências\n",
        "  metodos_de_pagamento = df['metodo_pagamento'].value_counts()\n",
        "\n",
        "  # Calcular percentual\n",
        "  total_clientes = metodos_de_pagamento.sum()\n",
        "  percentual = (metodos_de_pagamento[0] + metodos_de_pagamento[1]) / total_clientes * 100\n",
        "\n",
        "  # Configurações do gráfico\n",
        "  plt.figure(figsize=(10, 6), facecolor=CINZA_1)\n",
        "  ax = plt.axes()\n",
        "  ax.set_facecolor(CINZA_1)\n",
        "  plt.bar(metodos_de_pagamento.index, metodos_de_pagamento, color=VERMELHO_1)\n",
        "\n",
        "  # Adicionar texto com o total acima de cada barra\n",
        "  for i, v in enumerate(metodos_de_pagamento):\n",
        "      plt.text(i, v + 0.1, str(v), ha='center', va='bottom', color=AZUL_1, fontsize=12)\n",
        "\n",
        "  # Adicionar texto dentro da área do plot\n",
        "  plt.text(2, 2500, f\"$\\\\bf{percentual:.2f}$% dos clientes utilizam Cartão de Crédito ou PIX \\npara pagamento. Seria interessante recorrer a parcerias\\ncom bancos para a construção de um Zoop Pay a fim\\nde fidelizar a nossa clientela.\",\n",
        "          ha='left', va='center', color=AZUL_3, fontsize=10)\n",
        "\n",
        "  # Configurações adicionais\n",
        "  plt.title('Métodos de Pagamentos mais Utilizados em 2023', fontsize=18, color=CINZA_5)\n",
        "  plt.xticks(fontsize=12, color=AZUL_1)\n",
        "  plt.yticks([])\n",
        "  plt.xlabel('Método de Pagamento', fontsize=12, color=AZUL_1)\n",
        "  ax.spines[['top', 'right', 'left']].set_visible(False)\n",
        "  plt.grid(False)\n",
        "\n",
        "  return plt"
      ]
    },
    {
      "cell_type": "markdown",
      "metadata": {
        "id": "Vh5zEv25GHBo"
      },
      "source": [
        "### **Gráfico 2 - Vendas totais mensais em 2023:**"
      ]
    },
    {
      "cell_type": "code",
      "execution_count": 42,
      "metadata": {
        "id": "2wK95bjSEqf-"
      },
      "outputs": [],
      "source": [
        "def vendas_mensais():\n",
        "  # Dicionário de tradução de meses\n",
        "  meses = {'January': 'Jan', 'February': 'Fev', 'March': 'Mar', 'April': 'Abr',\n",
        "           'May': 'Mai', 'June': 'Jun', 'July': 'Jul', 'August': 'Ago',\n",
        "           'September': 'Set', 'October': 'Out', 'November': 'Nov', 'December': 'Dez'}\n",
        "\n",
        "  # Agrupar por mês e calcular as vendas totais\n",
        "  df['mes'] = df['data'].dt.strftime('%B')\n",
        "  vendas_mensais = df.groupby('mes')['faturamento'].sum().reindex(meses.keys())\n",
        "\n",
        "  # Configurações do gráfico\n",
        "  plt.figure(figsize=(12, 6), facecolor=CINZA_1)\n",
        "  ax = plt.axes()\n",
        "  ax.set_facecolor(CINZA_1)\n",
        "  plt.plot(vendas_mensais.index, vendas_mensais, marker='o', color=AZUL_1, linewidth=2)\n",
        "\n",
        "  # Adicionar rótulos e título\n",
        "  plt.title('Vendas Totais Mensais em 2023', fontsize=18, color=CINZA_5)\n",
        "  plt.xlabel('')\n",
        "  plt.ylabel('')\n",
        "\n",
        "  # Formatando rótulos do eixo y em \"R$ valor M\"\n",
        "  formatted_yticks = ['R$ {:.2f} M'.format(val / 1e6) for val in ax.get_yticks()]\n",
        "  ax.set_yticks(ax.get_yticks()) # para evitar o Warning\n",
        "  ax.set_yticklabels(formatted_yticks, fontsize=12, color=AZUL_1)\n",
        "\n",
        "  # Adicionar círculos numerados\n",
        "  for i, point in enumerate([(4, vendas_mensais.iloc[4]), (7, vendas_mensais.iloc[7]), (10, vendas_mensais.iloc[10]), (11, vendas_mensais.iloc[11])], start=1):\n",
        "      plt.scatter(point[0], point[1], s=200, color='none', edgecolors=VERMELHO_1, alpha=0.7)\n",
        "      plt.text(point[0] - 0.3, point[1] + 0.1, str(i), fontsize=12, color=VERMELHO_1)\n",
        "\n",
        "  # Configurações adicionais\n",
        "  plt.xticks(vendas_mensais.index, [meses[mes] for mes in vendas_mensais.index], fontsize=12, color=AZUL_1)\n",
        "  ax.spines['top'].set_visible(False)\n",
        "  ax.spines['right'].set_visible(False)\n",
        "\n",
        "  return plt"
      ]
    },
    {
      "cell_type": "markdown",
      "metadata": {
        "id": "1pUuIFWQGHWI"
      },
      "source": [
        "Agora que salvamos os 2 primeiros gráficos em função, vamos modificar mais um, **Faturamento por categoria de produto em 2023**, utilizando as técnicas de storytelling que já aprendemos."
      ]
    },
    {
      "cell_type": "markdown",
      "metadata": {
        "id": "H-5NInUnRW9O"
      },
      "source": [
        "### **Gráfico 3 - Faturamento por categoria de produto em 2023:**"
      ]
    },
    {
      "cell_type": "markdown",
      "metadata": {
        "id": "qYnUNGQPNc_r"
      },
      "source": [
        "Vamos dar prosseguimento aos gráficos gerados ao longo das aulas, partindo agora do gráfico de faturamento por categoria de produto aplicando as técnicas de storytelling que aprendemos aqui no curso por meio da utilização da IA"
      ]
    },
    {
      "cell_type": "code",
      "execution_count": null,
      "metadata": {
        "colab": {
          "base_uri": "https://localhost:8080/",
          "height": 718
        },
        "id": "NwbE3sNiNc_x",
        "outputId": "3a42b1db-a576-4ada-a18b-bdda75092175"
      },
      "outputs": [],
      "source": [
        "import matplotlib.pyplot as plt\n",
        "\n",
        "# Calcular o faturamento para cada categoria\n",
        "df['faturamento'] = (df['preco_unitario'] * df['quantidade']) + df['frete']\n",
        "\n",
        "# Agrupar por categoria e calcular o faturamento total\n",
        "faturamento_por_categoria = df.groupby('categoria')['faturamento'].sum().reset_index()\n",
        "\n",
        "# Ordenar por faturamento\n",
        "faturamento_por_categoria = faturamento_por_categoria.sort_values(by='faturamento', ascending=False)\n",
        "\n",
        "# Visualização\n",
        "plt.figure(figsize=(10, 8))\n",
        "plt.barh(faturamento_por_categoria['categoria'], faturamento_por_categoria['faturamento'], color='skyblue')\n",
        "plt.title('Faturamento por Categoria')\n",
        "plt.xlabel('Faturamento')\n",
        "plt.ylabel('Categoria')\n",
        "\n",
        "plt.show()"
      ]
    },
    {
      "cell_type": "markdown",
      "metadata": {
        "id": "9smSnoNTNc_x"
      },
      "source": [
        "> #### <strong><font color=\"7b71ff\" size =6>Prompt:</font></strong>\n",
        "\n",
        "Vamos partir para mais um gráfico? Agora, vamos refinar o gráfico de faturamento por categoria. Lembre que esse gráfico foi de barras horizontais.\n",
        "\n",
        "O nosso gráfico precisa seguir a identidade visual da Zoop, com o fundo da figura e do plot na cor CINZA_1, as colunas na cor AQUA_1 e o tamanho da figura deve ser de (10, 6).\n",
        "\n",
        "O título da figura é \"Faturamento por categoria de produto em 2023\" com tamanho 18 e sua cor CINZA_5.\n",
        "\n",
        "Os rótulos do eixo x (xticks) devem ser suprimidos assim como os labels do eixo x e y (xlabel e ylabel) e os rótulos do eixo y (yticks) devem ter tamanho 12 com a cor AZUL_1. Todas as bordas do gráfico devem ser suprimidas.\n",
        "\n",
        "Além disso, é necessário exibir o total do faturamento de cada categoria do lado direito de cada barra, com o texto também na cor AZUL_1 e tamanho 12.\n",
        "\n",
        "Vamos adicionar também um texto dentro da área do plot. Para isso, divida o valor da 1ª barra pela soma de todas as barras e passe para o formato de porcentagem armazenando na variável \"percentual\"\n",
        "\n",
        "Agora, na posição x = 0.4e7 e y = 5, adicione o seguinte texto com tamanho 12 e cor AZUL_3: `f\"$\\\\bf{percentual:.2f}$% das vendas correspondem apenas as vendas de Eletrônicos.\\nIsso é equivalente a quase o dobro em relação a todas as outras categorias\\npresentes no portfólio da Zoop.\"`.\n",
        "\n",
        "Utilize as bibliotecas de visualização de dados do Python para criar essa visualização."
      ]
    },
    {
      "cell_type": "code",
      "execution_count": 46,
      "metadata": {
        "id": "aiUbVIC0Nc_y"
      },
      "outputs": [],
      "source": []
    },
    {
      "cell_type": "code",
      "execution_count": null,
      "metadata": {
        "colab": {
          "base_uri": "https://localhost:8080/",
          "height": 543
        },
        "id": "wDbxOhlmWPt_",
        "outputId": "1556fe95-21a0-423a-bfeb-85bef908b998"
      },
      "outputs": [],
      "source": []
    },
    {
      "cell_type": "markdown",
      "metadata": {
        "id": "0FjRnuXONc_y"
      },
      "source": [
        "<font color=\"7b71ff\" size=4> Comentários: </font>\n",
        "\n",
        "---\n",
        "\n",
        "Fizemos com um único prompt a inserção dos rótulos, alteração das cores e adicionamos um texto explicativo. Com a sequência de explicações para o ChatGPT ele nota alguns padrões na construção e cria parte dos códigos mesmo sem mais detalhes."
      ]
    },
    {
      "cell_type": "markdown",
      "metadata": {
        "id": "iv9LeOApc1dF"
      },
      "source": [
        "## **5.2 - Ajustando os visuais de composição**\n",
        "\n",
        "---\n",
        "\n"
      ]
    },
    {
      "cell_type": "markdown",
      "metadata": {},
      "source": [
        "\n",
        "Já chegamos a praticamente metade dos gráficos refinados. Agora, vamos neste tópico ajustar mais 2 aplicando as técnicas de storytelling que aprendemos aqui no curso por meio da utilização da IA."
      ]
    },
    {
      "cell_type": "markdown",
      "metadata": {},
      "source": [
        "### **Gráfico 4 - Vendas por trimestre e método de pagamento:**"
      ]
    },
    {
      "cell_type": "code",
      "execution_count": null,
      "metadata": {},
      "outputs": [],
      "source": [
        "import pandas as pd\n",
        "import matplotlib.pyplot as plt\n",
        "\n",
        "# Supondo que você tenha o DataFrame \"df\" carregado\n",
        "\n",
        "# Converter a coluna 'data' para o formato datetime, se ainda não estiver\n",
        "df['data'] = pd.to_datetime(df['data'])\n",
        "\n",
        "# Criar uma nova coluna para identificar o trimestre\n",
        "df['trimestre'] = df['data'].dt.to_period('Q')\n",
        "\n",
        "# Agrupar por trimestre e método de pagamento, somando o faturamento\n",
        "vendas_por_trimestre = df.groupby(['trimestre', 'metodo_pagamento'])['faturamento'].sum().unstack()\n",
        "\n",
        "# Visualização em gráfico de barras empilhadas\n",
        "vendas_por_trimestre.plot(kind='bar', stacked=True, figsize=(12, 8), colormap='viridis')\n",
        "plt.title('Vendas por Trimestre e Método de Pagamento')\n",
        "plt.xlabel('Trimestre')\n",
        "plt.ylabel('Vendas')\n",
        "plt.legend(title='Método de Pagamento')\n",
        "\n",
        "plt.show()"
      ]
    },
    {
      "cell_type": "markdown",
      "metadata": {},
      "source": [
        "> #### <strong><font color=\"7b71ff\" size =6>Prompt:</font></strong>\n",
        "\n",
        "Vamos agora para o gráfico de Vendas por Trimestre e Método de Pagamento que produzimos anteriormente. Vamos refiná-lo usando as seguintes orientações.\n",
        "\n",
        "O nosso gráfico precisa seguir a identidade visual da Zoop, com o fundo da figura e do plot na cor CINZA_1 e o tamanho da figura deve ser de (10, 6). A sequência de cores das colunas empilhadas (palette) é [BRANCO, CINZA_3, AQUA_1, AQUA_3].\n",
        "\n",
        "O título da figura é \"Vendas por Trimestre e Método de Pagamento em 2023\" com tamanho 18 e sua cor CINZA_5.\n",
        "\n",
        "Os rótulos do eixo x (xticks) precisam estar em 0 graus e ter tamanho 12 com a cor AZUL_1. Os rótulos do eixo y (yticks) devem\n",
        "estar no formato f\"R$ valor M\" sem casas decimais e os labels do eixo x e y (xlabel e ylabel) devem ser suprimidos. Todas as bordas do gráfico devem ser suprimidas(['top','bottom','left','right]).\n",
        "\n",
        "Adicione também um grid tracejado em y\n",
        "\n",
        "Utilize as bibliotecas de visualização de dados do Python para criar essa visualização."
      ]
    },
    {
      "cell_type": "code",
      "execution_count": 49,
      "metadata": {},
      "outputs": [],
      "source": []
    },
    {
      "cell_type": "code",
      "execution_count": null,
      "metadata": {},
      "outputs": [],
      "source": []
    },
    {
      "cell_type": "markdown",
      "metadata": {},
      "source": [
        "<font color=\"7b71ff\" size=4> Comentários: </font>\n",
        "\n",
        "---\n",
        "\n",
        "Ajustamos o gráfico de barras empilhadas representando com cores mais brandas os valores dos métodos de pagamento. Podemos notar coisas interessantes nesse gráfico, como: 2º e 4º tri como sendo os momentos em que a Zoop fatura mais com vendas e, também, o aumento do pagamento das compras feitas pelos clientes por meio do cartão de crédito."
      ]
    },
    {
      "cell_type": "markdown",
      "metadata": {},
      "source": [
        "### **Gráfico 5 - Clientes participantes do programa de cashback:**"
      ]
    },
    {
      "cell_type": "markdown",
      "metadata": {},
      "source": [
        "Agora chegou a hora do gráfico de setores. Ele já esta bem encaminhado, mas precisamos realizar alguns ajustes."
      ]
    },
    {
      "cell_type": "code",
      "execution_count": null,
      "metadata": {},
      "outputs": [],
      "source": [
        "import matplotlib.pyplot as plt\n",
        "\n",
        "# Calcular a proporção de adesão ao cashback\n",
        "proporcao_cashback = df['cashback'].value_counts(normalize=True)\n",
        "\n",
        "# Cores invertidas\n",
        "cores_invertidas = ['lightcoral', 'skyblue']\n",
        "\n",
        "# Visualização em gráfico de rosca (donut)\n",
        "plt.figure(figsize=(6, 6))\n",
        "plt.pie(proporcao_cashback, labels=proporcao_cashback.index, autopct='%1.1f%%', startangle=90, colors=cores_invertidas, wedgeprops=dict(width=0.6))\n",
        "plt.title('Proporção de Usuários Aderindo ao Cashback')\n",
        "plt.show()"
      ]
    },
    {
      "cell_type": "markdown",
      "metadata": {},
      "source": [
        "> #### <strong><font color=\"7b71ff\" size =6>Prompt:</font></strong>\n",
        "\n",
        "Agora, vamos refinar o gráfico de rosca que produzimos para a proporção de usuários aderindo ao programa de cashback.\n",
        "\n",
        "O nosso gráfico precisa seguir a identidade visual da Zoop, com o fundo da figura e do plot na cor CINZA_1, a cor da fatia de valor \"Não\" igual a CINZA_3, a cor da fatia de valor \"Sim\" igual a AZUL_1  e o tamanho da figura deve ser de (6, 6).\n",
        "\n",
        "O título da figura é \"Participam do programa de cashback?\" com tamanho 18 e sua cor CINZA_5.\n",
        "\n",
        "Os rótulos das fatias precisam ter a mesma cor das fatias e tamanho 12 e as porcentagens precisam estar na cor BRANCO, também com tamanho 12.\n",
        "\n",
        "A propriedade da largura da rosca (`wedgeprops`) precisa ser de 0.4, a posição das porcentagens dentro da fatia (`pctdistance`) precisa ser de 0.8, o ângulo de início de 180 (`startangle`) e sem explosão de fatias.\n",
        "\n",
        "Utilize as bibliotecas de visualização de dados do Python para criar essa visualização."
      ]
    },
    {
      "cell_type": "code",
      "execution_count": 52,
      "metadata": {},
      "outputs": [],
      "source": []
    },
    {
      "cell_type": "code",
      "execution_count": null,
      "metadata": {},
      "outputs": [],
      "source": []
    },
    {
      "cell_type": "markdown",
      "metadata": {},
      "source": [
        "<font color=\"7b71ff\" size=4> Comentários: </font>\n",
        "\n",
        "---\n",
        "\n",
        "Alteramos mais um gráfico, agora o de rosca, para representar a proporção dos(a) nossos(as) clientes. Demos maior destaque ao \"Sim\", utilizando a cor como recurso de ponto focal."
      ]
    },
    {
      "cell_type": "markdown",
      "metadata": {
        "id": "IuoLBKPm6Xj8"
      },
      "source": [
        "## **5.3 - Ajustando os visuais de distribuição**\n",
        "\n",
        "---\n",
        "\n"
      ]
    },
    {
      "cell_type": "markdown",
      "metadata": {
        "id": "KL5IRF3K6XkC"
      },
      "source": [
        "Agora vamos para os últimos 2 gráficos antes da exportação dos visuais. Vamos aplicar mais técnicas de storytelling que aprendemos por meio da utilização da IA.\n",
        "\n"
      ]
    },
    {
      "cell_type": "markdown",
      "metadata": {},
      "source": [
        "### **Gráfico 6 - Avaliações dos produtos:**"
      ]
    },
    {
      "cell_type": "markdown",
      "metadata": {},
      "source": [
        "Agora vamos para a distribuição das avaliações dos produtos em que criamos um histograma. Vamos adicionar mais um novo elemento visual e realizar alguns ajustes."
      ]
    },
    {
      "cell_type": "code",
      "execution_count": null,
      "metadata": {},
      "outputs": [],
      "source": [
        "import matplotlib.pyplot as plt\n",
        "\n",
        "# Supondo que você tenha o DataFrame \"df\" carregado\n",
        "\n",
        "# Visualização em histograma\n",
        "plt.figure(figsize=(10, 6))\n",
        "plt.hist(df['avaliacao_compra'], bins=11, edgecolor='black', color='skyblue')\n",
        "plt.title('Distribuição das Avaliações de Compra')\n",
        "plt.xlabel('Avaliação')\n",
        "plt.ylabel('Frequência')\n",
        "plt.grid(axis='y', linestyle='--', alpha=0.7)\n",
        "\n",
        "plt.show()"
      ]
    },
    {
      "cell_type": "markdown",
      "metadata": {},
      "source": [
        "> #### <strong><font color=\"7b71ff\" size =6>Prompt:</font></strong>\n",
        "\n",
        "Vamos agora para o gráfico da Distribuição das Avaliações de Compra que produzimos anteriormente. Vamos refiná-lo usando as seguintes orientações.\n",
        "\n",
        "O nosso gráfico precisa seguir a identidade visual da Zoop, com o fundo da figura e do plot na cor CINZA_1, a cor das colunas VERMELHO_1 e o tamanho da figura deve ser de (10, 6).\n",
        "\n",
        "O título da figura é \"Distribuição das avaliações das compras em 2023\" com tamanho 18 e sua cor CINZA_5.\n",
        "\n",
        "Os rótulos do eixo x (xticks) precisa estar no range de 0 a 10 com bins de 11 bins e ter tamanho 12 com a cor AZUL_1. Os rótulos do eixo y (yticks) devem ter tamanho 12 com a cor AZUL_1 e os labels do eixo x e y (xlabel e ylabel) também devem ter tamanho 12 com a cor AZUL_1. Todas as bordas do gráfico devem ser suprimidas(['top','bottom','left','right]).\n",
        "\n",
        "O grid do y tem que estar atrás do gráfico (`ax.set_axisbelow(True)`).\n",
        "\n",
        "Vamos adicionar uma caixa de anotação (`ax.annotate()`) com o fundo na cor BRANCO e a borda na cor CINZA_3 dentro da área do plot. O texto da anotação é\n",
        "\n",
        "```\n",
        "f\"Média de avaliações = {df['avaliacao_compra'].mean().round(2)}\\n\n",
        "Avaliação mais comum = {df['avaliacao_compra'].value_counts().idxmax()}\\n\n",
        "Frequência da mais comum = {df['avaliacao_compra'].value_counts().max()}\"\n",
        "```\n",
        "\n",
        "na cor AZUL_1. Adicione a caixa da anotação com o texto na posição xytext=(2, 1800) e coloque uma seta, na cor AZUL_1, saindo da caixa até a posição xy=(9, 2250).\n",
        "\n",
        "\n",
        "Utilize as bibliotecas de visualização de dados do Python para criar essa visualização."
      ]
    },
    {
      "cell_type": "code",
      "execution_count": 54,
      "metadata": {},
      "outputs": [],
      "source": []
    },
    {
      "cell_type": "code",
      "execution_count": null,
      "metadata": {},
      "outputs": [],
      "source": []
    },
    {
      "cell_type": "markdown",
      "metadata": {},
      "source": [
        "<font color=\"7b71ff\" size=4> Comentários: </font>\n",
        "\n",
        "---\n",
        "\n",
        "Mais uma novidade aqui em nosso gráfico! Adicionamos o recurso de bloco de anotações que é muito bom para colocar informações a respeito do dado. Com ele é possível utilizar as setas como indicadores para destaque."
      ]
    },
    {
      "cell_type": "markdown",
      "metadata": {
        "id": "qLuX9ZiA6XkC"
      },
      "source": [
        "### **Gráfico 7 - Distribuição do público por idade e sexo biológico:**"
      ]
    },
    {
      "cell_type": "markdown",
      "metadata": {},
      "source": [
        "Agora vamos para o nosso último visual!"
      ]
    },
    {
      "cell_type": "code",
      "execution_count": null,
      "metadata": {
        "colab": {
          "base_uri": "https://localhost:8080/",
          "height": 806
        },
        "id": "HzNG7Bkf6XkC",
        "outputId": "03c2772c-c76b-4e48-f2ab-978561f2c824"
      },
      "outputs": [],
      "source": [
        "import matplotlib.pyplot as plt\n",
        "import seaborn as sns\n",
        "\n",
        "# Supondo que você tenha o DataFrame \"df\" carregado\n",
        "\n",
        "# Visualização em boxplot\n",
        "plt.figure(figsize=(12, 8))\n",
        "sns.boxplot(data=df, x='sexo_biologico', y='idade', palette='pastel')\n",
        "plt.title('Distribuição da Idade por Sexo Biológico')\n",
        "plt.xlabel('Sexo Biológico')\n",
        "plt.ylabel('Idade')\n",
        "\n",
        "plt.show()"
      ]
    },
    {
      "cell_type": "markdown",
      "metadata": {},
      "source": [
        "> #### <strong><font color=\"7b71ff\" size =6>Prompt:</font></strong>\n",
        "\n",
        "Vamos agora para o gráfico de boxplot da Distribuição da Idade por Sexo Biológico que produzimos anteriormente. Vamos refiná-lo usando as seguintes orientações.\n",
        "\n",
        "O nosso gráfico precisa seguir a identidade visual da Zoop, com o fundo da figura e do plot na cor CINZA_1, e o tamanho da figura deve ser de (10, 6).\n",
        "\n",
        "O título da figura é \"Distribuição da Idade por Sexo Biológico dos(as) clientes\" com tamanho 18 e sua cor CINZA_5.\n",
        "\n",
        "A coluna 'sexo_biologico' é representada no eixo x e a 'idade' no eixo y. A paleta de cores para os valores de x é [AZUL_1, AQUA_1].\n",
        "\n",
        "O label do eixo x (xlabel) deve ser suprimido. Os rótulos do eixo x e y (xticks e yticks) devem ter tamanho 12 com a cor AZUL_1 e o label do eixo y (ylabel) também deve ter tamanho 12 com a cor AZUL_1. Todas as bordas do gráfico devem ser suprimidas e o grid do eixo y tem que estar atrás do gráfico (`ax.set_axisbelow(True)`).\n",
        "\n",
        "Vamos adicionar duas caixas de anotação (`ax.annotate()`) com o fundo na cor BRANCO e a borda na cor CINZA_3 dentro da área do plot.\n",
        "\n",
        "O texto da primeira anotação na cor AZUL_1 é\n",
        "\n",
        "```\n",
        "f\"Mínimo = df.groupby(\"sexo_biologico\")[\"idade\"].min()[1]\\n\n",
        "1º quartil = df.groupby(\"sexo_biologico\")[\"idade\"].quantile(.25)[1]\\n\n",
        "2º quartil = df.groupby(\"sexo_biologico\")[\"idade\"].median()[1]\\n\n",
        "3º quartil = df.groupby(\"sexo_biologico\")[\"idade\"].quantile(.75)[1]\\n\n",
        "Máximo = df.groupby(\"sexo_biologico\")[\"idade\"].max()[1]\"\n",
        "```\n",
        "\n",
        " Adicione a caixa da anotação com o texto na posição xytext=(-0.4, 50) e coloque uma seta, na cor AZUL_1, saindo da caixa até a posição xy=(-0.1, 45).\n",
        "\n",
        " O texto da segunda anotação na cor AZUL_1 é\n",
        "\n",
        "```\n",
        "f\"Mínimo = df.groupby(\"sexo_biologico\")[\"idade\"].min()[0]\\n\n",
        "1º quartil = df.groupby(\"sexo_biologico\")[\"idade\"].quantile(.25)[0]\\n\n",
        "2º quartil = df.groupby(\"sexo_biologico\")[\"idade\"].median()[0]\\n\n",
        "3º quartil = df.groupby(\"sexo_biologico\")[\"idade\"].quantile(.75)[0]\\n\n",
        "Máximo = df.groupby(\"sexo_biologico\")[\"idade\"].max()[0]\"\n",
        "```\n",
        "\n",
        " Adicione a caixa da anotação com o texto na posição xytext=(0.6, 50) e coloque uma seta, na cor AZUL_1, saindo da caixa até a posição xy=(0.9, 45).\n",
        "\n",
        "Utilize as bibliotecas de visualização de dados do Python para criar essa visualização."
      ]
    },
    {
      "cell_type": "code",
      "execution_count": 57,
      "metadata": {
        "id": "7_HsQ_dF6XkD"
      },
      "outputs": [],
      "source": []
    },
    {
      "cell_type": "code",
      "execution_count": null,
      "metadata": {
        "colab": {
          "base_uri": "https://localhost:8080/",
          "height": 544
        },
        "id": "3bogJjhG6XkD",
        "outputId": "a3c08b94-6aa7-4f94-e0db-a3883203f924"
      },
      "outputs": [],
      "source": []
    },
    {
      "cell_type": "markdown",
      "metadata": {
        "id": "eHHhl8F86XkD"
      },
      "source": [
        "<font color=\"7b71ff\" size=4> Comentários: </font>\n",
        "\n",
        "---\n",
        "\n",
        "Para nosso último gráfico, criamos novamente o bloco de anotações apontando para os valores que são exibidos em um boxplot. Notamos que a distribuição entre o clientes do sexo biológico masculino e feminino está bem próxima com apenas um ano a mais no intervalo interquartil (1º a 3º) no caso do sexo biológico masculino. A Zoop tem na mediana a clientela dentro dos 38 anos de idade para ambos sexos."
      ]
    },
    {
      "cell_type": "markdown",
      "metadata": {
        "id": "Jr0vnry3M6jo"
      },
      "source": [
        "## **5.4 - Exportando os visuais**\n",
        "\n",
        "---\n",
        "\n"
      ]
    },
    {
      "cell_type": "markdown",
      "metadata": {
        "id": "cJXHarNaM6jo"
      },
      "source": [
        "Pronto! Agora que finalizamos os ajustes de todos os gráficos requisitados, vamos gerar um último código para exportar cada um dos gráficos que transformamos em funções no formato de imagem (PNG).\n",
        "\n"
      ]
    },
    {
      "cell_type": "markdown",
      "metadata": {
        "id": "CgtrpLeaOArJ"
      },
      "source": [
        "> #### <strong><font color=\"7b71ff\" size =6>Prompt:</font></strong>\n",
        "\n",
        "Agora, vamos para a nossa ultima etapa: salvar as visualizações como imagem. Coloquei cada um dos gráficos que geramos dentro de uma função e quero que seja aplicada a cada uma delas o seguinte procedimento:\n",
        "\n",
        "```\n",
        "nome_imagem = nome_funcao()\n",
        "nome_imagem.savefig('nome_imagem.png', bbox_inches='tight')\n",
        "nome_imagem.close()\n",
        "```\n",
        "\n",
        "As funções são:\n",
        "\n",
        "*   metodos_pag()\n",
        "*   vendas_mensais()\n",
        "*   faturamento_por_categoria()\n",
        "*   vendas_tri_metodo()\n",
        "*   cashback()\n",
        "*   avaliacao_compra()\n",
        "*   dist_idade_sexo()\n",
        "\n",
        "Troque a variável `nome_imagem` por `grafico_` seguido do nome da função que gera o gráfico.\n",
        "\n",
        "Utilize a linguagem Python para criar o código e não exiba as imagens."
      ]
    },
    {
      "cell_type": "code",
      "execution_count": 59,
      "metadata": {
        "id": "opfDbPBfQ6mv"
      },
      "outputs": [],
      "source": []
    },
    {
      "cell_type": "markdown",
      "metadata": {
        "id": "UjPDH4TYUyfV"
      },
      "source": [
        "Agora é a sua vez! Que tal baixar os gráficos e gerar um relatório trazendo alguns insights e explicando os resultados?\n",
        "\n",
        "Espero que tenha curtido este curso e faça bom proveito do conteúdo!"
      ]
    }
  ],
  "metadata": {
    "colab": {
      "provenance": []
    },
    "kernelspec": {
      "display_name": "Python 3",
      "name": "python3"
    },
    "language_info": {
      "codemirror_mode": {
        "name": "ipython",
        "version": 3
      },
      "file_extension": ".py",
      "mimetype": "text/x-python",
      "name": "python",
      "nbconvert_exporter": "python",
      "pygments_lexer": "ipython3",
      "version": "3.10.5"
    }
  },
  "nbformat": 4,
  "nbformat_minor": 0
}
