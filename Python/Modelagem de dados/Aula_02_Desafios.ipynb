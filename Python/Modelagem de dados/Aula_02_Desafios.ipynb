{
  "cells": [
    {
      "cell_type": "markdown",
      "metadata": {
        "id": "qxah03ikONCD"
      },
      "source": [
        "# Sobre o notebook\n",
        "\n",
        "Aproveite esse espaço para as atividades do curso de **IA aplicada a Data Science: utilizando IA na construção de visualização de dados** da Alura. Aqui você pode escrever e testar os códigos dos diversos exercícios do **Mão na Massa** envolvendo os aprendizados de cada aula.\n",
        "\n",
        "Este notebook foi construído com espaços para adicionar o prompt que será utilizado para criar o código pelo ChatGPT e as células dos desafios propostos no curso, com eles você tem espaço para construir e executar suas soluções.\n"
      ]
    },
    {
      "cell_type": "markdown",
      "metadata": {},
      "source": [
        "Logo abaixo, temos as url's onde estão localizadas as bases utilizadas no projeto juntamente com a url com dados que utilizaremos também no desafio"
      ]
    },
    {
      "cell_type": "code",
      "execution_count": 1,
      "metadata": {},
      "outputs": [],
      "source": [
        "url_clientes = \"https://raw.githubusercontent.com/alura-cursos/ia-datascience-dataviz/main/dados/zoop_clientes.csv\"\n",
        "url_vendas = \"https://raw.githubusercontent.com/alura-cursos/ia-datascience-dataviz/main/dados/zoop_vendas.csv\"\n",
        "url_zoop_pay = \"https://raw.githubusercontent.com/alura-cursos/ia-datascience-dataviz/main/dados/cadastro_zoop_pay.csv\""
      ]
    },
    {
      "cell_type": "markdown",
      "metadata": {
        "id": "IA3M1eso_L2Z"
      },
      "source": [
        "## Aula 01 - Conhecendo os dados"
      ]
    },
    {
      "cell_type": "markdown",
      "metadata": {
        "id": "AmpR_VE4CImQ"
      },
      "source": [
        "### Mão na Massa - Zoop Pay"
      ]
    },
    {
      "cell_type": "markdown",
      "metadata": {},
      "source": [
        "> #### <strong><font color=\"#203f75\" size= 6>Prompt:</font></strong>\n",
        "\n",
        "Vamos atuar como analista de dados de um e-commerce. Recebemos três bases de dados com os dados dos clientes e vendas em 2023 e quais clientes estão pré-cadastrados na Zoop Pay, respectivamente.\n",
        "\n",
        "Vamos iniciar unindo as duas primeiras bases do nosso projeto (\"vendas\" e \"clientes\") em um DataFrame chamado \"df\" utilizando como chave a coluna \"ID_compra\". Além disso, vamos organizar as colunas na seguinte sequência:\n",
        "\n",
        "[\"ID_compra\", \"data\", \"horario\", \"categoria\", \"preco_unitario\", \"quantidade\", \"frete\", \"metodo_pagamento\", \"ID_cliente\", \"idade\", \"sexo_biologico\", \"cidade\", \"uf\", \"regiao\", \"cashback\", \"avaliacao_compra\" ]\n",
        "\n",
        "Construa um código para executar esta etapa usando o Python e a biblioteca Pandas.\n"
      ]
    },
    {
      "cell_type": "code",
      "execution_count": 2,
      "metadata": {
        "id": "ZruvypSoO6oP"
      },
      "outputs": [
        {
          "data": {
            "text/html": [
              "<div>\n",
              "<style scoped>\n",
              "    .dataframe tbody tr th:only-of-type {\n",
              "        vertical-align: middle;\n",
              "    }\n",
              "\n",
              "    .dataframe tbody tr th {\n",
              "        vertical-align: top;\n",
              "    }\n",
              "\n",
              "    .dataframe thead th {\n",
              "        text-align: right;\n",
              "    }\n",
              "</style>\n",
              "<table border=\"1\" class=\"dataframe\">\n",
              "  <thead>\n",
              "    <tr style=\"text-align: right;\">\n",
              "      <th></th>\n",
              "      <th>ID_compra</th>\n",
              "      <th>data</th>\n",
              "      <th>horario</th>\n",
              "      <th>categoria</th>\n",
              "      <th>preco_unitario</th>\n",
              "      <th>quantidade</th>\n",
              "      <th>frete</th>\n",
              "      <th>metodo_pagamento</th>\n",
              "      <th>ID_cliente</th>\n",
              "      <th>idade</th>\n",
              "      <th>sexo_biologico</th>\n",
              "      <th>cidade</th>\n",
              "      <th>uf</th>\n",
              "      <th>regiao</th>\n",
              "      <th>cashback</th>\n",
              "      <th>avaliacao_compra</th>\n",
              "    </tr>\n",
              "  </thead>\n",
              "  <tbody>\n",
              "    <tr>\n",
              "      <th>0</th>\n",
              "      <td>6</td>\n",
              "      <td>2023-01-03</td>\n",
              "      <td>20:40</td>\n",
              "      <td>Eletrônicos</td>\n",
              "      <td>4457.9</td>\n",
              "      <td>4</td>\n",
              "      <td>713.26</td>\n",
              "      <td>Boleto</td>\n",
              "      <td>6149</td>\n",
              "      <td>30</td>\n",
              "      <td>Masculino</td>\n",
              "      <td>Porto Alegre</td>\n",
              "      <td>Rio Grande do Sul</td>\n",
              "      <td>Sul</td>\n",
              "      <td>Sim</td>\n",
              "      <td>10</td>\n",
              "    </tr>\n",
              "    <tr>\n",
              "      <th>1</th>\n",
              "      <td>5</td>\n",
              "      <td>2023-01-03</td>\n",
              "      <td>21:48</td>\n",
              "      <td>Ferramentas e construção</td>\n",
              "      <td>115.9</td>\n",
              "      <td>1</td>\n",
              "      <td>0.00</td>\n",
              "      <td>PIX</td>\n",
              "      <td>9491</td>\n",
              "      <td>36</td>\n",
              "      <td>Masculino</td>\n",
              "      <td>São Paulo</td>\n",
              "      <td>São Paulo</td>\n",
              "      <td>Sudeste</td>\n",
              "      <td>Sim</td>\n",
              "      <td>8</td>\n",
              "    </tr>\n",
              "    <tr>\n",
              "      <th>2</th>\n",
              "      <td>9</td>\n",
              "      <td>2023-01-03</td>\n",
              "      <td>17:08</td>\n",
              "      <td>Beleza e cuidados pessoais</td>\n",
              "      <td>68.9</td>\n",
              "      <td>2</td>\n",
              "      <td>13.78</td>\n",
              "      <td>Cartão de Crédito</td>\n",
              "      <td>5288</td>\n",
              "      <td>39</td>\n",
              "      <td>Feminino</td>\n",
              "      <td>Porto Velho</td>\n",
              "      <td>Rondônia</td>\n",
              "      <td>Norte</td>\n",
              "      <td>Não</td>\n",
              "      <td>7</td>\n",
              "    </tr>\n",
              "    <tr>\n",
              "      <th>3</th>\n",
              "      <td>4</td>\n",
              "      <td>2023-01-03</td>\n",
              "      <td>14:29</td>\n",
              "      <td>Ferramentas e construção</td>\n",
              "      <td>80.9</td>\n",
              "      <td>5</td>\n",
              "      <td>40.45</td>\n",
              "      <td>PIX</td>\n",
              "      <td>9679</td>\n",
              "      <td>35</td>\n",
              "      <td>Masculino</td>\n",
              "      <td>Recife</td>\n",
              "      <td>Pernambuco</td>\n",
              "      <td>Nordeste</td>\n",
              "      <td>Sim</td>\n",
              "      <td>9</td>\n",
              "    </tr>\n",
              "    <tr>\n",
              "      <th>4</th>\n",
              "      <td>8</td>\n",
              "      <td>2023-01-03</td>\n",
              "      <td>18:02</td>\n",
              "      <td>Beleza e cuidados pessoais</td>\n",
              "      <td>165.0</td>\n",
              "      <td>4</td>\n",
              "      <td>0.00</td>\n",
              "      <td>PIX</td>\n",
              "      <td>1380</td>\n",
              "      <td>50</td>\n",
              "      <td>Masculino</td>\n",
              "      <td>São Paulo</td>\n",
              "      <td>São Paulo</td>\n",
              "      <td>Sudeste</td>\n",
              "      <td>Não</td>\n",
              "      <td>9</td>\n",
              "    </tr>\n",
              "  </tbody>\n",
              "</table>\n",
              "</div>"
            ],
            "text/plain": [
              "   ID_compra        data horario                   categoria  preco_unitario  \\\n",
              "0          6  2023-01-03   20:40                 Eletrônicos          4457.9   \n",
              "1          5  2023-01-03   21:48    Ferramentas e construção           115.9   \n",
              "2          9  2023-01-03   17:08  Beleza e cuidados pessoais            68.9   \n",
              "3          4  2023-01-03   14:29    Ferramentas e construção            80.9   \n",
              "4          8  2023-01-03   18:02  Beleza e cuidados pessoais           165.0   \n",
              "\n",
              "   quantidade   frete   metodo_pagamento  ID_cliente  idade sexo_biologico  \\\n",
              "0           4  713.26             Boleto        6149     30      Masculino   \n",
              "1           1    0.00                PIX        9491     36      Masculino   \n",
              "2           2   13.78  Cartão de Crédito        5288     39       Feminino   \n",
              "3           5   40.45                PIX        9679     35      Masculino   \n",
              "4           4    0.00                PIX        1380     50      Masculino   \n",
              "\n",
              "         cidade                 uf    regiao cashback  avaliacao_compra  \n",
              "0  Porto Alegre  Rio Grande do Sul       Sul      Sim                10  \n",
              "1     São Paulo          São Paulo   Sudeste      Sim                 8  \n",
              "2   Porto Velho           Rondônia     Norte      Não                 7  \n",
              "3        Recife         Pernambuco  Nordeste      Sim                 9  \n",
              "4     São Paulo          São Paulo   Sudeste      Não                 9  "
            ]
          },
          "execution_count": 2,
          "metadata": {},
          "output_type": "execute_result"
        }
      ],
      "source": [
        "import pandas as pd\n",
        "\n",
        "# Exemplo de como carregar os DataFrames, caso necessário:\n",
        "vendas = pd.read_csv(url_vendas)\n",
        "clientes = pd.read_csv(url_clientes)\n",
        "\n",
        "# Unindo as bases \"vendas\" e \"clientes\" usando a coluna \"ID_compra\" como chave\n",
        "df = pd.merge(vendas, clientes, on=\"ID_compra\")\n",
        "\n",
        "# Organizando as colunas na sequência especificada\n",
        "colunas_ordenadas = [\"ID_compra\", \"data\", \"horario\", \"categoria\", \"preco_unitario\", \"quantidade\", \"frete\", \"metodo_pagamento\", \"ID_cliente\", \"idade\", \"sexo_biologico\", \"cidade\", \"uf\", \"regiao\", \"cashback\", \"avaliacao_compra\" ]\n",
        "\n",
        "df = df[colunas_ordenadas]\n",
        "\n",
        "# Exibindo as primeiras linhas do DataFrame resultante para verificação\n",
        "df.head()"
      ]
    },
    {
      "cell_type": "markdown",
      "metadata": {},
      "source": [
        "> #### <strong><font color=\"#203f75\" size= 6>Prompt:</font></strong>\n",
        "\n",
        "Agora, vamos unir o \"df\" com a base \"zoop_pay\", lida a partir da url \"url_zoop_pay\", gerando um novo \"df\". Para união das bases, utilizaremos a coluna \"ID_cliente\". Além disso, vamos ajustar a coluna \"data\" para o formato datetime, em que seu formato na base de dados está como \"YYYY-MM-DD\"."
      ]
    },
    {
      "cell_type": "code",
      "execution_count": 3,
      "metadata": {
        "id": "wN0_cal1O6FJ"
      },
      "outputs": [
        {
          "data": {
            "text/html": [
              "<div>\n",
              "<style scoped>\n",
              "    .dataframe tbody tr th:only-of-type {\n",
              "        vertical-align: middle;\n",
              "    }\n",
              "\n",
              "    .dataframe tbody tr th {\n",
              "        vertical-align: top;\n",
              "    }\n",
              "\n",
              "    .dataframe thead th {\n",
              "        text-align: right;\n",
              "    }\n",
              "</style>\n",
              "<table border=\"1\" class=\"dataframe\">\n",
              "  <thead>\n",
              "    <tr style=\"text-align: right;\">\n",
              "      <th></th>\n",
              "      <th>ID_compra</th>\n",
              "      <th>data</th>\n",
              "      <th>horario</th>\n",
              "      <th>categoria</th>\n",
              "      <th>preco_unitario</th>\n",
              "      <th>quantidade</th>\n",
              "      <th>frete</th>\n",
              "      <th>metodo_pagamento</th>\n",
              "      <th>ID_cliente</th>\n",
              "      <th>idade</th>\n",
              "      <th>sexo_biologico</th>\n",
              "      <th>cidade</th>\n",
              "      <th>uf</th>\n",
              "      <th>regiao</th>\n",
              "      <th>cashback</th>\n",
              "      <th>avaliacao_compra</th>\n",
              "      <th>zoop_pay</th>\n",
              "    </tr>\n",
              "  </thead>\n",
              "  <tbody>\n",
              "    <tr>\n",
              "      <th>0</th>\n",
              "      <td>6</td>\n",
              "      <td>2023-01-03</td>\n",
              "      <td>20:40</td>\n",
              "      <td>Eletrônicos</td>\n",
              "      <td>4457.9</td>\n",
              "      <td>4</td>\n",
              "      <td>713.26</td>\n",
              "      <td>Boleto</td>\n",
              "      <td>6149</td>\n",
              "      <td>30</td>\n",
              "      <td>Masculino</td>\n",
              "      <td>Porto Alegre</td>\n",
              "      <td>Rio Grande do Sul</td>\n",
              "      <td>Sul</td>\n",
              "      <td>Sim</td>\n",
              "      <td>10</td>\n",
              "      <td>Não</td>\n",
              "    </tr>\n",
              "    <tr>\n",
              "      <th>1</th>\n",
              "      <td>2467</td>\n",
              "      <td>2023-08-02</td>\n",
              "      <td>17:10</td>\n",
              "      <td>Alimentos e bebidas</td>\n",
              "      <td>13.9</td>\n",
              "      <td>1</td>\n",
              "      <td>0.97</td>\n",
              "      <td>PIX</td>\n",
              "      <td>6149</td>\n",
              "      <td>30</td>\n",
              "      <td>Masculino</td>\n",
              "      <td>Porto Alegre</td>\n",
              "      <td>Rio Grande do Sul</td>\n",
              "      <td>Sul</td>\n",
              "      <td>Sim</td>\n",
              "      <td>8</td>\n",
              "      <td>Não</td>\n",
              "    </tr>\n",
              "    <tr>\n",
              "      <th>2</th>\n",
              "      <td>5</td>\n",
              "      <td>2023-01-03</td>\n",
              "      <td>21:48</td>\n",
              "      <td>Ferramentas e construção</td>\n",
              "      <td>115.9</td>\n",
              "      <td>1</td>\n",
              "      <td>0.00</td>\n",
              "      <td>PIX</td>\n",
              "      <td>9491</td>\n",
              "      <td>36</td>\n",
              "      <td>Masculino</td>\n",
              "      <td>São Paulo</td>\n",
              "      <td>São Paulo</td>\n",
              "      <td>Sudeste</td>\n",
              "      <td>Sim</td>\n",
              "      <td>8</td>\n",
              "      <td>Sim</td>\n",
              "    </tr>\n",
              "    <tr>\n",
              "      <th>3</th>\n",
              "      <td>9</td>\n",
              "      <td>2023-01-03</td>\n",
              "      <td>17:08</td>\n",
              "      <td>Beleza e cuidados pessoais</td>\n",
              "      <td>68.9</td>\n",
              "      <td>2</td>\n",
              "      <td>13.78</td>\n",
              "      <td>Cartão de Crédito</td>\n",
              "      <td>5288</td>\n",
              "      <td>39</td>\n",
              "      <td>Feminino</td>\n",
              "      <td>Porto Velho</td>\n",
              "      <td>Rondônia</td>\n",
              "      <td>Norte</td>\n",
              "      <td>Não</td>\n",
              "      <td>7</td>\n",
              "      <td>Não</td>\n",
              "    </tr>\n",
              "    <tr>\n",
              "      <th>4</th>\n",
              "      <td>4</td>\n",
              "      <td>2023-01-03</td>\n",
              "      <td>14:29</td>\n",
              "      <td>Ferramentas e construção</td>\n",
              "      <td>80.9</td>\n",
              "      <td>5</td>\n",
              "      <td>40.45</td>\n",
              "      <td>PIX</td>\n",
              "      <td>9679</td>\n",
              "      <td>35</td>\n",
              "      <td>Masculino</td>\n",
              "      <td>Recife</td>\n",
              "      <td>Pernambuco</td>\n",
              "      <td>Nordeste</td>\n",
              "      <td>Sim</td>\n",
              "      <td>9</td>\n",
              "      <td>Sim</td>\n",
              "    </tr>\n",
              "  </tbody>\n",
              "</table>\n",
              "</div>"
            ],
            "text/plain": [
              "   ID_compra       data horario                   categoria  preco_unitario  \\\n",
              "0          6 2023-01-03   20:40                 Eletrônicos          4457.9   \n",
              "1       2467 2023-08-02   17:10         Alimentos e bebidas            13.9   \n",
              "2          5 2023-01-03   21:48    Ferramentas e construção           115.9   \n",
              "3          9 2023-01-03   17:08  Beleza e cuidados pessoais            68.9   \n",
              "4          4 2023-01-03   14:29    Ferramentas e construção            80.9   \n",
              "\n",
              "   quantidade   frete   metodo_pagamento  ID_cliente  idade sexo_biologico  \\\n",
              "0           4  713.26             Boleto        6149     30      Masculino   \n",
              "1           1    0.97                PIX        6149     30      Masculino   \n",
              "2           1    0.00                PIX        9491     36      Masculino   \n",
              "3           2   13.78  Cartão de Crédito        5288     39       Feminino   \n",
              "4           5   40.45                PIX        9679     35      Masculino   \n",
              "\n",
              "         cidade                 uf    regiao cashback  avaliacao_compra  \\\n",
              "0  Porto Alegre  Rio Grande do Sul       Sul      Sim                10   \n",
              "1  Porto Alegre  Rio Grande do Sul       Sul      Sim                 8   \n",
              "2     São Paulo          São Paulo   Sudeste      Sim                 8   \n",
              "3   Porto Velho           Rondônia     Norte      Não                 7   \n",
              "4        Recife         Pernambuco  Nordeste      Sim                 9   \n",
              "\n",
              "  zoop_pay  \n",
              "0      Não  \n",
              "1      Não  \n",
              "2      Sim  \n",
              "3      Não  \n",
              "4      Sim  "
            ]
          },
          "execution_count": 3,
          "metadata": {},
          "output_type": "execute_result"
        }
      ],
      "source": [
        "# Substitua url_zoop_pay pela URL real fornecida para a base zoop_pay\n",
        "zoop_pay = pd.read_csv(url_zoop_pay)\n",
        "\n",
        "# Unindo o DataFrame df com a base zoop_pay utilizando a coluna \"ID_cliente\"\n",
        "df = pd.merge(df, zoop_pay, on=\"ID_cliente\")\n",
        "\n",
        "# Ajustando a coluna \"data\" para o formato datetime\n",
        "df['data'] = pd.to_datetime(df['data'], format='%Y-%m-%d')\n",
        "\n",
        "# Exibindo as primeiras linhas do DataFrame resultante para verificação\n",
        "df.head()"
      ]
    },
    {
      "cell_type": "markdown",
      "metadata": {
        "id": "ix1N_JAH_T1C"
      },
      "source": [
        "## Aula 02 - Visualizando os dados"
      ]
    },
    {
      "cell_type": "markdown",
      "metadata": {
        "id": "1sZUt4Nk_scq"
      },
      "source": [
        "### Mão na Massa - Gerando visuais em relação a localidade"
      ]
    },
    {
      "cell_type": "markdown",
      "metadata": {},
      "source": [
        "#### Desafio 1:"
      ]
    },
    {
      "cell_type": "markdown",
      "metadata": {},
      "source": [
        "> #### <strong><font color=\"#203f75\" size= 6>Prompt:</font></strong>\n",
        "\n",
        "Temos um DataFrame chamado \"df\" e queremos construir um visual de gráfico de colunas que apresente o faturamento por região da Zoop.\n",
        "\n",
        "Em \"df\", temos as colunas:\n",
        "* regiao: regiao do(a) cliente\n",
        "* preco_unitario: preço de uma unidade do produto\n",
        "* quantidade: quantidade vendida do produto\n",
        "* frete: frete a ser pago no total da compra.\n",
        "\n",
        "Desejamos criar uma visualização que apresente o faturamento de cada região, em que o faturamento é dado pelo produto entre o preço unitário e a quantidade somadas ao frete.\n",
        "\n",
        "Utilize as bibliotecas de visualização de dados do Python para criar essa visualização."
      ]
    },
    {
      "cell_type": "code",
      "execution_count": 4,
      "metadata": {
        "id": "EQ2k1j6f_scv"
      },
      "outputs": [
        {
          "data": {
            "image/png": "[encoded data removed]",
            "text/plain": [
              "<Figure size 1000x600 with 1 Axes>"
            ]
          },
          "metadata": {},
          "output_type": "display_data"
        }
      ],
      "source": [
        "import pandas as pd\n",
        "import matplotlib.pyplot as plt\n",
        "\n",
        "# Supondo que df seja o seu DataFrame\n",
        "# Calcula o faturamento para cada transação\n",
        "df['faturamento'] = (df['preco_unitario'] * df['quantidade']) + df['frete']\n",
        "\n",
        "# Agrupa os dados por região e soma o faturamento\n",
        "faturamento_por_regiao = df.groupby('regiao')['faturamento'].sum().reset_index()\n",
        "\n",
        "# Ordena o resultado para melhor visualização\n",
        "faturamento_por_regiao = faturamento_por_regiao.sort_values(by='faturamento', ascending=False)\n",
        "\n",
        "# Criação do gráfico de colunas\n",
        "plt.figure(figsize=(10, 6))  # Ajusta o tamanho do gráfico\n",
        "plt.bar(faturamento_por_regiao['regiao'], faturamento_por_regiao['faturamento'], color='skyblue')  # Plota o gráfico de barras\n",
        "plt.title('Faturamento por Região')  # Adiciona título ao gráfico\n",
        "plt.xlabel('Região')  # Adiciona rótulo ao eixo X\n",
        "plt.ylabel('Faturamento')  # Adiciona rótulo ao eixo Y\n",
        "plt.show()  # Exibe o gráfico"
      ]
    },
    {
      "cell_type": "markdown",
      "metadata": {},
      "source": [
        "#### Desafio 2:"
      ]
    },
    {
      "cell_type": "markdown",
      "metadata": {},
      "source": [
        "> #### <strong><font color=\"#203f75\" size= 6>Prompt:</font></strong>\n",
        "\n",
        "Temos um DataFrame chamado \"df\" e queremos construir um visual de colunas empilhadas que apresente a quantidade de pessoas por sexo biológico em relação aos estados de \"São Paulo\" e \"Rio de Janeiro\".\n",
        "\n",
        "Em \"df\", temos as colunas:\n",
        "* uf: unidade federativa (estado) do(a) cliente. Vamos utilizar apenas os estados de \"São Paulo\" e \"Rio de Janeiro\"\n",
        "* sexo_biologico: sexo biológico do(a) cliente\n",
        "\n",
        "Desejamos criar uma visualização que apresente a quantidade de pessoas agrupadas por sexo biológico nos estados que definimos.\n",
        "\n",
        "Utilize as bibliotecas de visualização de dados do Python para criar essa visualização."
      ]
    },
    {
      "cell_type": "code",
      "execution_count": 5,
      "metadata": {
        "id": "kz2xGyH0_scv"
      },
      "outputs": [
        {
          "data": {
            "image/png": "[encoded data removed]",
            "text/plain": [
              "<Figure size 1000x600 with 1 Axes>"
            ]
          },
          "metadata": {},
          "output_type": "display_data"
        }
      ],
      "source": [
        "import pandas as pd\n",
        "import matplotlib.pyplot as plt\n",
        "\n",
        "# Filtrar o DataFrame para incluir apenas os estados de \"São Paulo\" e \"Rio de Janeiro\"\n",
        "df_filtrado = df[df['uf'].isin(['São Paulo', 'Rio de Janeiro'])]\n",
        "\n",
        "# Contar a quantidade de pessoas por sexo biológico e estado\n",
        "contagem_por_sexo_e_estado = df_filtrado.groupby(['uf', 'sexo_biologico']).size().unstack(fill_value=0)\n",
        "\n",
        "# Criar o gráfico de colunas empilhadas\n",
        "contagem_por_sexo_e_estado.plot(kind='bar', stacked=True, figsize=(10, 6))\n",
        "\n",
        "# Adicionar título e rótulos aos eixos\n",
        "plt.title('Quantidade de Pessoas por Sexo Biológico em São Paulo e Rio de Janeiro')\n",
        "plt.xlabel('Estado')\n",
        "plt.ylabel('Quantidade de Pessoas')\n",
        "plt.xticks(rotation=0)  # Mantém os rótulos dos estados na horizontal para melhor legibilidade\n",
        "\n",
        "# Mostrar a legenda e o gráfico\n",
        "plt.legend(title='Sexo Biológico')\n",
        "plt.show()"
      ]
    },
    {
      "cell_type": "markdown",
      "metadata": {
        "id": "1uTAdILB_T6m"
      },
      "source": [
        "## Aula 03 - Gerando mais visuais"
      ]
    },
    {
      "cell_type": "markdown",
      "metadata": {
        "id": "SsQ3DvzR_t-L"
      },
      "source": [
        "### Mão na Massa - Perfil dos clientes"
      ]
    },
    {
      "cell_type": "markdown",
      "metadata": {},
      "source": [
        "#### Desafio 1:"
      ]
    },
    {
      "cell_type": "markdown",
      "metadata": {},
      "source": [
        "> #### <strong><font color=\"#203f75\" size= 6>Prompt:</font></strong>\n",
        "\n",
        "Escreva aqui o prompt que você utilizou para gerar o código do desafio!"
      ]
    },
    {
      "cell_type": "code",
      "execution_count": null,
      "metadata": {
        "id": "bIoMVk5r_t-Q"
      },
      "outputs": [],
      "source": []
    },
    {
      "cell_type": "markdown",
      "metadata": {},
      "source": [
        "#### Desafio 2:"
      ]
    },
    {
      "cell_type": "markdown",
      "metadata": {},
      "source": [
        "> #### <strong><font color=\"#203f75\" size= 6>Prompt:</font></strong>\n",
        "\n",
        "Escreva aqui o prompt que você utilizou para gerar o código do desafio!"
      ]
    },
    {
      "cell_type": "code",
      "execution_count": null,
      "metadata": {
        "id": "0lEwT00p_t-Q"
      },
      "outputs": [],
      "source": []
    },
    {
      "cell_type": "markdown",
      "metadata": {
        "id": "i_X1NcH9_T-u"
      },
      "source": [
        "## Aula 04 - Técnicas de storytelling"
      ]
    },
    {
      "cell_type": "markdown",
      "metadata": {},
      "source": [
        "### Paleta de Cores"
      ]
    },
    {
      "cell_type": "markdown",
      "metadata": {},
      "source": [
        "Vamos compartilhar aqui a paleta de cores que usamos durante o curso pra você executar e usar em seu projeto, mas sinta-se livre para construir a sua própria."
      ]
    },
    {
      "cell_type": "code",
      "execution_count": 8,
      "metadata": {},
      "outputs": [],
      "source": [
        "# Adicionando as cores como variáveis do projeto\n",
        "VERMELHO_1,\tVERMELHO_2,\tVERMELHO_3 = \"#e23155\",\t\"#cc2c4e\", \"#b32742\"\n",
        "AZUL_1,\tAZUL_2,\tAZUL_3 = \"#203f75\",\t\"#1c3867\", \"#19325b\"\n",
        "BRANCO,\tCINZA_1, CINZA_2, CINZA_3, CINZA_4,\tCINZA_5 = \"#ffffff\", \"#ebebeb\",\t\"#d9d9d9\", \"#cccccc\", \"#555655\", \"#231f20\"\n",
        "AQUA_1,\tAQUA_2,\tAQUA_3 = \"#addcd4\",\t\"#9fccc5\", \"#96bfb9\""
      ]
    },
    {
      "cell_type": "markdown",
      "metadata": {
        "id": "jQGogqg0_uiR"
      },
      "source": [
        "### Mão na Massa - Refinando os visuais escolhidos"
      ]
    },
    {
      "cell_type": "markdown",
      "metadata": {},
      "source": [
        "#### Desafio 1:"
      ]
    },
    {
      "cell_type": "markdown",
      "metadata": {},
      "source": [
        "##### Gráfico sem refinamento"
      ]
    },
    {
      "cell_type": "code",
      "execution_count": null,
      "metadata": {
        "id": "kHsVLA2b_uiS"
      },
      "outputs": [],
      "source": []
    },
    {
      "cell_type": "markdown",
      "metadata": {},
      "source": [
        "> #### <strong><font color=\"#203f75\" size= 6>Prompt:</font></strong>\n",
        "\n",
        "Escreva aqui o prompt que você utilizou para gerar o código do desafio!\n"
      ]
    },
    {
      "cell_type": "code",
      "execution_count": null,
      "metadata": {
        "id": "T1dqk3Al_uiS"
      },
      "outputs": [],
      "source": []
    },
    {
      "cell_type": "markdown",
      "metadata": {},
      "source": [
        "#### Desafio 2:"
      ]
    },
    {
      "cell_type": "markdown",
      "metadata": {},
      "source": [
        "##### Gráfico sem refinamento"
      ]
    },
    {
      "cell_type": "code",
      "execution_count": null,
      "metadata": {
        "id": "uaVxWWPC_uiS"
      },
      "outputs": [],
      "source": []
    },
    {
      "cell_type": "markdown",
      "metadata": {},
      "source": [
        "> #### <strong><font color=\"#203f75\" size= 6>Prompt:</font></strong>\n",
        "\n",
        "Escreva aqui o prompt que você utilizou para gerar o código do desafio!"
      ]
    },
    {
      "cell_type": "code",
      "execution_count": null,
      "metadata": {},
      "outputs": [],
      "source": []
    }
  ],
  "metadata": {
    "colab": {
      "provenance": []
    },
    "kernelspec": {
      "display_name": "base",
      "language": "python",
      "name": "python3"
    },
    "language_info": {
      "codemirror_mode": {
        "name": "ipython",
        "version": 3
      },
      "file_extension": ".py",
      "mimetype": "text/x-python",
      "name": "python",
      "nbconvert_exporter": "python",
      "pygments_lexer": "ipython3",
      "version": "3.10.5"
    },
    "orig_nbformat": 4
  },
  "nbformat": 4,
  "nbformat_minor": 0
}
